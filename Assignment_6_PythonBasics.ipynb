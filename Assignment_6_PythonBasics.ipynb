{
 "cells": [
  {
   "cell_type": "raw",
   "id": "16efa095",
   "metadata": {},
   "source": [
    "1. What are escape characters, and how do you use them?\n",
    "Ans: An escape character is a backslash \\ followed by the character you want to insert."
   ]
  },
  {
   "cell_type": "code",
   "execution_count": 1,
   "id": "9257ea69",
   "metadata": {},
   "outputs": [
    {
     "ename": "SyntaxError",
     "evalue": "invalid syntax (4230469627.py, line 1)",
     "output_type": "error",
     "traceback": [
      "\u001b[1;36m  Input \u001b[1;32mIn [1]\u001b[1;36m\u001b[0m\n\u001b[1;33m    text = \"We are called \"Indians\" by our devotion to nation.\"\u001b[0m\n\u001b[1;37m                           ^\u001b[0m\n\u001b[1;31mSyntaxError\u001b[0m\u001b[1;31m:\u001b[0m invalid syntax\n"
     ]
    }
   ],
   "source": [
    "text = \"We are called \"Indians\" by our devotion to nation.\""
   ]
  },
  {
   "cell_type": "code",
   "execution_count": 2,
   "id": "ea01ab4a",
   "metadata": {},
   "outputs": [],
   "source": [
    "## to fix above problem, we insert /b/\n",
    "txt = \"We are called \\\"Indians\\\" by our devotion to nation.\""
   ]
  },
  {
   "cell_type": "raw",
   "id": "a4416906",
   "metadata": {},
   "source": [
    "2. What do the escape characters n and t stand for?\n",
    "Ans: \"\\t\" is a tab, \"\\n\" is a newline"
   ]
  },
  {
   "cell_type": "code",
   "execution_count": 3,
   "id": "32bf559d",
   "metadata": {},
   "outputs": [
    {
     "name": "stdout",
     "output_type": "stream",
     "text": [
      "Welcome to\n",
      " DataScience Classes\n"
     ]
    }
   ],
   "source": [
    "# 3. What is the way to include backslash characters in a string?\n",
    "print(\"Welcome to\\n DataScience Classes\")"
   ]
  },
  {
   "cell_type": "raw",
   "id": "5638aac3",
   "metadata": {},
   "source": [
    "4. The string \"Howl's Moving Castle\" is a correct value. Why isn't the single quote character in the word Howl's not escaped a problem?\n",
    "Ans: The single quote in Howl's is fine as we have used double quotes to mark the beginning and end of the string. "
   ]
  },
  {
   "cell_type": "code",
   "execution_count": 4,
   "id": "93d743b2",
   "metadata": {},
   "outputs": [
    {
     "name": "stdout",
     "output_type": "stream",
     "text": [
      "Hello Welcome to DataScience\n"
     ]
    }
   ],
   "source": [
    "# 5. How do you write a string of newlines if you don't want to use the n character?\n",
    "\n",
    "print(\"Hello Welcome to DataScience\" ,end = '\\n')"
   ]
  },
  {
   "cell_type": "code",
   "execution_count": 5,
   "id": "effa87e8",
   "metadata": {},
   "outputs": [
    {
     "data": {
      "text/plain": [
       "'e'"
      ]
     },
     "execution_count": 5,
     "metadata": {},
     "output_type": "execute_result"
    }
   ],
   "source": [
    "# 6.What are the values of the given expressions?\n",
    "'Hello, world!'[1]"
   ]
  },
  {
   "cell_type": "code",
   "execution_count": 6,
   "id": "aa36df28",
   "metadata": {},
   "outputs": [
    {
     "data": {
      "text/plain": [
       "'Hello'"
      ]
     },
     "execution_count": 6,
     "metadata": {},
     "output_type": "execute_result"
    }
   ],
   "source": [
    "'Hello, world!'[0:5]"
   ]
  },
  {
   "cell_type": "code",
   "execution_count": 7,
   "id": "7bf8d358",
   "metadata": {},
   "outputs": [
    {
     "data": {
      "text/plain": [
       "'Hello'"
      ]
     },
     "execution_count": 7,
     "metadata": {},
     "output_type": "execute_result"
    }
   ],
   "source": [
    "'Hello, world!'[:5]"
   ]
  },
  {
   "cell_type": "code",
   "execution_count": 8,
   "id": "5216a0b3",
   "metadata": {},
   "outputs": [
    {
     "data": {
      "text/plain": [
       "'lo, world!'"
      ]
     },
     "execution_count": 8,
     "metadata": {},
     "output_type": "execute_result"
    }
   ],
   "source": [
    "'Hello, world!'[3:]"
   ]
  },
  {
   "cell_type": "code",
   "execution_count": null,
   "id": "2c0e3070",
   "metadata": {},
   "outputs": [],
   "source": [
    "# 7.What are the values of the following expressions?"
   ]
  },
  {
   "cell_type": "code",
   "execution_count": 9,
   "id": "354ca701",
   "metadata": {},
   "outputs": [
    {
     "data": {
      "text/plain": [
       "'HELLO'"
      ]
     },
     "execution_count": 9,
     "metadata": {},
     "output_type": "execute_result"
    }
   ],
   "source": [
    "'Hello'.upper() "
   ]
  },
  {
   "cell_type": "code",
   "execution_count": 10,
   "id": "34980999",
   "metadata": {},
   "outputs": [
    {
     "data": {
      "text/plain": [
       "True"
      ]
     },
     "execution_count": 10,
     "metadata": {},
     "output_type": "execute_result"
    }
   ],
   "source": [
    "'Hello'.upper().isupper() "
   ]
  },
  {
   "cell_type": "code",
   "execution_count": 11,
   "id": "b4945c57",
   "metadata": {},
   "outputs": [
    {
     "data": {
      "text/plain": [
       "'hello'"
      ]
     },
     "execution_count": 11,
     "metadata": {},
     "output_type": "execute_result"
    }
   ],
   "source": [
    " 'Hello'.upper().lower()"
   ]
  },
  {
   "cell_type": "raw",
   "id": "bbf5826c",
   "metadata": {},
   "source": [
    "8. What are the values of the following expressions?\n",
    "'Remember, remember, the fifth of July.'.split() \n",
    "'-'.join('There can only one.'.split())"
   ]
  },
  {
   "cell_type": "code",
   "execution_count": 12,
   "id": "b75a1131",
   "metadata": {},
   "outputs": [
    {
     "data": {
      "text/plain": [
       "['Remember,', 'remember,', 'the', 'fifth', 'of', 'July.']"
      ]
     },
     "execution_count": 12,
     "metadata": {},
     "output_type": "execute_result"
    }
   ],
   "source": [
    "'Remember, remember, the fifth of July.'.split()"
   ]
  },
  {
   "cell_type": "code",
   "execution_count": 13,
   "id": "657ed613",
   "metadata": {},
   "outputs": [
    {
     "data": {
      "text/plain": [
       "'There-can-only-one.'"
      ]
     },
     "execution_count": 13,
     "metadata": {},
     "output_type": "execute_result"
    }
   ],
   "source": [
    "'-'.join('There can only one.'.split())"
   ]
  },
  {
   "cell_type": "code",
   "execution_count": 14,
   "id": "ba66af35",
   "metadata": {},
   "outputs": [],
   "source": [
    "# 9.What are the methods for right-justifying, left-justifying, and centering a string"
   ]
  },
  {
   "cell_type": "code",
   "execution_count": 15,
   "id": "9de01095",
   "metadata": {},
   "outputs": [
    {
     "data": {
      "text/plain": [
       "'Intelligence***'"
      ]
     },
     "execution_count": 15,
     "metadata": {},
     "output_type": "execute_result"
    }
   ],
   "source": [
    "# left justifying\n",
    "string =\"Intelligence\"\n",
    "string.ljust(15,\"*\")"
   ]
  },
  {
   "cell_type": "code",
   "execution_count": 16,
   "id": "9b449d61",
   "metadata": {},
   "outputs": [
    {
     "data": {
      "text/plain": [
       "'***Intelligence'"
      ]
     },
     "execution_count": 16,
     "metadata": {},
     "output_type": "execute_result"
    }
   ],
   "source": [
    "# Right justifying\n",
    "string =\"Intelligence\"\n",
    "string.rjust(15,\"*\")"
   ]
  },
  {
   "cell_type": "code",
   "execution_count": 17,
   "id": "b26b37d3",
   "metadata": {},
   "outputs": [
    {
     "data": {
      "text/plain": [
       "'****Intelligence****'"
      ]
     },
     "execution_count": 17,
     "metadata": {},
     "output_type": "execute_result"
    }
   ],
   "source": [
    "# Centre justifying\n",
    "string =\"Intelligence\"\n",
    "string.center(20,\"*\")"
   ]
  },
  {
   "cell_type": "code",
   "execution_count": 18,
   "id": "a556fbd8",
   "metadata": {},
   "outputs": [
    {
     "data": {
      "text/plain": [
       "'study    '"
      ]
     },
     "execution_count": 18,
     "metadata": {},
     "output_type": "execute_result"
    }
   ],
   "source": [
    "# 10. What is the best way to remove whitespace characters from the start or end?\n",
    "# From the start\n",
    "string=\"      study    \"\n",
    "string.lstrip()"
   ]
  },
  {
   "cell_type": "code",
   "execution_count": 19,
   "id": "5a53814a",
   "metadata": {},
   "outputs": [
    {
     "data": {
      "text/plain": [
       "'      study'"
      ]
     },
     "execution_count": 19,
     "metadata": {},
     "output_type": "execute_result"
    }
   ],
   "source": [
    "# From the end\n",
    "string.rstrip()"
   ]
  },
  {
   "cell_type": "code",
   "execution_count": null,
   "id": "6b75acd5",
   "metadata": {},
   "outputs": [],
   "source": []
  }
 ],
 "metadata": {
  "kernelspec": {
   "display_name": "Python 3 (ipykernel)",
   "language": "python",
   "name": "python3"
  },
  "language_info": {
   "codemirror_mode": {
    "name": "ipython",
    "version": 3
   },
   "file_extension": ".py",
   "mimetype": "text/x-python",
   "name": "python",
   "nbconvert_exporter": "python",
   "pygments_lexer": "ipython3",
   "version": "3.9.12"
  }
 },
 "nbformat": 4,
 "nbformat_minor": 5
}
