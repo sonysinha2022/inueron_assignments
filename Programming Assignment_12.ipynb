{
 "cells": [
  {
   "cell_type": "code",
   "execution_count": null,
   "id": "cdbf2e0e",
   "metadata": {},
   "outputs": [],
   "source": [
    "1. Write a Python program to Extract Unique values dictionary values?"
   ]
  },
  {
   "cell_type": "code",
   "execution_count": 5,
   "id": "52bd2115",
   "metadata": {},
   "outputs": [
    {
     "name": "stdout",
     "output_type": "stream",
     "text": [
      "The original dictionary is : {'number1': [0, 7, 6, 8], 'num2': [19, 10, 7, 6], 'numm': [6, 12, 10, 18], 'numb': [1, 2, 8]}\n",
      "The unique values list is : [1, 2, 5, 6, 7, 8, 10, 11, 12]\n"
     ]
    }
   ],
   "source": [
    "# Python code to demonstrate working of Extract Unique values dictionary values\n",
    "# Using set comprehension + values() + sorted()\n",
    " \n",
    "# initializing dictionary\n",
    "dict = {'number1': [0, 7, 6, 8],\n",
    "             'num2': [19, 10, 7, 6],\n",
    "             'numm': [6, 12, 10, 18],\n",
    "             'numb': [1, 2, 8]}\n",
    " \n",
    "# printing original dictionary\n",
    "print(\"The original dictionary is : \" + str(dict))\n",
    " \n",
    "# Using set comprehension + values() + sorted()\n",
    "result = list(sorted({element for val in test_dict.values() for element in val}))\n",
    " \n",
    "# printing result\n",
    "print(\"The unique values list is : \" + str(result))"
   ]
  },
  {
   "cell_type": "code",
   "execution_count": null,
   "id": "9468730c",
   "metadata": {},
   "outputs": [],
   "source": [
    "2. Write a Python program to find the sum of all items in a dictionary?"
   ]
  },
  {
   "cell_type": "code",
   "execution_count": 11,
   "id": "ede2a9a0",
   "metadata": {},
   "outputs": [
    {
     "name": "stdout",
     "output_type": "stream",
     "text": [
      "Sum : 700\n"
     ]
    }
   ],
   "source": [
    "# Python Program to find sum of all items in a Dictionary\n",
    " \n",
    "def dictSum(myDict):\n",
    "    list = []\n",
    "    for i in myDict:\n",
    "        list.append(myDict[i])\n",
    "    final = sum(list)\n",
    "    return final\n",
    "\n",
    "dict = {'a': 300, 'b': 200, 'c': 200}\n",
    "print(\"Sum :\", dictSum(dict))"
   ]
  },
  {
   "cell_type": "code",
   "execution_count": null,
   "id": "6d5db989",
   "metadata": {},
   "outputs": [],
   "source": [
    "3. Write a Python program to Merging two Dictionaries?"
   ]
  },
  {
   "cell_type": "code",
   "execution_count": 12,
   "id": "92e8e7d7",
   "metadata": {},
   "outputs": [
    {
     "name": "stdout",
     "output_type": "stream",
     "text": [
      "None\n",
      "{'d': 6, 'c': 4, 'a': 10, 'b': 8}\n"
     ]
    }
   ],
   "source": [
    "# Python code to merge dict using update() method\n",
    "def Merge(dict1, dict2):\n",
    "    return(dict2.update(dict1))\n",
    "\n",
    "dict1 = {'a': 10, 'b': 8}\n",
    "dict2 = {'d': 6, 'c': 4}\n",
    " \n",
    "# This returns None\n",
    "print(Merge(dict1, dict2))\n",
    " \n",
    "# changes made in dict2\n",
    "print(dict2)"
   ]
  },
  {
   "cell_type": "code",
   "execution_count": null,
   "id": "ec64a4d3",
   "metadata": {},
   "outputs": [],
   "source": [
    "4. Write a Python program to convert key-values list to flat dictionary?"
   ]
  },
  {
   "cell_type": "code",
   "execution_count": 22,
   "id": "e7cd2484",
   "metadata": {},
   "outputs": [
    {
     "name": "stdout",
     "output_type": "stream",
     "text": [
      "Original dictionary elements:\n",
      "{'ram': 45, 'kahani': 78, 'abram': 98, 'riya': 80}\n",
      "\n",
      "Flat list of all the keys of the flat dictionary:\n",
      "['ram', 'kahani', 'abram', 'riya']\n"
     ]
    }
   ],
   "source": [
    "def dict_test(flat_dict):\n",
    "  return list(flat_dict.keys())\n",
    "students = {'ram':45, 'kahani':78, 'abram':98, 'riya': 80}\n",
    "\n",
    "print(\"Original dictionary elements:\")\n",
    "print(students)\n",
    "print(\"\\nFlat list of all the keys of the flat dictionary:\")\n",
    "print(test(students))"
   ]
  },
  {
   "cell_type": "code",
   "execution_count": null,
   "id": "1c6db357",
   "metadata": {},
   "outputs": [],
   "source": [
    "5. Write a Python program to insertion at the beginning in OrderedDict?"
   ]
  },
  {
   "cell_type": "code",
   "execution_count": 25,
   "id": "f32b98dc",
   "metadata": {},
   "outputs": [
    {
     "name": "stdout",
     "output_type": "stream",
     "text": [
      " Dictionary is : OrderedDict([('riya', '91'), ('siya', '72'), ('jeet', '83')])\n"
     ]
    }
   ],
   "source": [
    "# Python code to demonstrate insertion of items in beginning of ordered dict\n",
    "from collections import OrderedDict\n",
    " \n",
    "# Initialising ordered_dict\n",
    "order_dict = OrderedDict([('riya', '91'), ('siya', '72')])\n",
    " \n",
    "# Inserting items in starting of dict\n",
    "order_dict.update({'jeet': '83'})\n",
    "order_dict.move_to_end('jeet', last=True)\n",
    " \n",
    "# Printing result\n",
    "print(\" Dictionary is : \"+str(order_dict))"
   ]
  },
  {
   "cell_type": "code",
   "execution_count": null,
   "id": "a0e87819",
   "metadata": {},
   "outputs": [],
   "source": [
    "6. Write a Python program to check order of character in string using OrderedDict()?"
   ]
  },
  {
   "cell_type": "code",
   "execution_count": 35,
   "id": "74a140be",
   "metadata": {},
   "outputs": [
    {
     "name": "stdout",
     "output_type": "stream",
     "text": [
      "Enter string : sing a song\n",
      "Enter Pattern : s\n",
      "OrderedDict([('s', None), ('i', None), ('n', None), ('g', None), (' ', None), ('a', None), ('o', None)])\n",
      "Pattern matched\n"
     ]
    }
   ],
   "source": [
    "from collections import OrderedDict \n",
    "  \n",
    "def checkOrderofString(str, pattern): \n",
    "      \n",
    "    # create empty OrderedDict \n",
    "    dict = OrderedDict.fromkeys(str) \n",
    "    print(dict)   \n",
    "    pattern_len = 0\n",
    "    for key,value in dict.items(): \n",
    "        \n",
    "        if (key == pattern[pattern_len]): \n",
    "            pattern_len = pattern_len + 1\n",
    "          \n",
    "        # check if we have traverse complete pattern string \n",
    "        if (pattern_len == (len(pattern))):            \n",
    "            return 'true'\n",
    "  \n",
    "    # if we come out from for loop that means order was mismatched \n",
    "    return 'false'\n",
    "  \n",
    "\n",
    "string = input(\"Enter string : \")\n",
    "pattern = input(\"Enter Pattern : \")\n",
    "if checkOrderofString(string,pattern):\n",
    "    print(\"Pattern matched\")\n",
    "else:\n",
    "    print(\"Pattern not matched\")"
   ]
  },
  {
   "cell_type": "code",
   "execution_count": null,
   "id": "1956ab23",
   "metadata": {},
   "outputs": [],
   "source": [
    "7. Write a Python program to sort Python Dictionaries by Key or Value?"
   ]
  },
  {
   "cell_type": "code",
   "execution_count": 28,
   "id": "f574ab96",
   "metadata": {},
   "outputs": [
    {
     "name": "stdout",
     "output_type": "stream",
     "text": [
      "[3, 5, 6, 8, 14]\n",
      "[(3, 44), (5, 36), (6, 25), (8, 19), (14, 13)]\n"
     ]
    }
   ],
   "source": [
    "a = {5:7 ,8:19 ,14:13 ,3:44 ,6:25 ,5:36 }\n",
    "\n",
    "#this will print a sorted list of the keys\n",
    "print(sorted(a.keys()))\n",
    "#this will print the sorted list with items.\n",
    "print(sorted(a.items()))"
   ]
  },
  {
   "cell_type": "code",
   "execution_count": 29,
   "id": "b165643e",
   "metadata": {},
   "outputs": [
    {
     "name": "stdout",
     "output_type": "stream",
     "text": [
      "[13, 19, 25, 36, 44]\n"
     ]
    }
   ],
   "source": [
    "a = {5:7 ,8:19 ,14:13 ,3:44 ,6:25 ,5:36 }\n",
    "print(sorted(a.values()))\n",
    "#this will print a sorted list of values."
   ]
  },
  {
   "cell_type": "code",
   "execution_count": null,
   "id": "b2626541",
   "metadata": {},
   "outputs": [],
   "source": []
  },
  {
   "cell_type": "code",
   "execution_count": null,
   "id": "6c4efbea",
   "metadata": {},
   "outputs": [],
   "source": []
  }
 ],
 "metadata": {
  "kernelspec": {
   "display_name": "Python 3",
   "language": "python",
   "name": "python3"
  },
  "language_info": {
   "codemirror_mode": {
    "name": "ipython",
    "version": 3
   },
   "file_extension": ".py",
   "mimetype": "text/x-python",
   "name": "python",
   "nbconvert_exporter": "python",
   "pygments_lexer": "ipython3",
   "version": "3.10.6"
  }
 },
 "nbformat": 4,
 "nbformat_minor": 5
}
