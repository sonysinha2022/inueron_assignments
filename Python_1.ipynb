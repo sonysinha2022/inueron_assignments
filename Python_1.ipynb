{
 "cells": [
  {
   "cell_type": "markdown",
   "id": "e80d6420",
   "metadata": {},
   "source": [
    "#Assignment no 1\n",
    "\n",
    "#Python Programming "
   ]
  },
  {
   "cell_type": "markdown",
   "id": "c46b1dcc",
   "metadata": {},
   "source": [
    "1.In the below elements which of them are values or an expression? eg:- values can be\n",
    "integer or string and expressions will be mathematical operators.\n",
    "\n",
    "Ans: values are: 'hello' , '-87.8' ,6\n",
    "     Expressions are: *, -, /, +"
   ]
  },
  {
   "cell_type": "markdown",
   "id": "4f533404",
   "metadata": {},
   "source": [
    "2. What is the difference between string and variable?\n",
    "\n",
    "Ans: A string is a value representing text\n",
    "     A variable is a name that can refer to any value"
   ]
  },
  {
   "cell_type": "code",
   "execution_count": 1,
   "id": "d99eea04",
   "metadata": {},
   "outputs": [
    {
     "name": "stdout",
     "output_type": "stream",
     "text": [
      "String is: This is string\n",
      "Variable is 5\n",
      "Variable is Ineuron\n"
     ]
    }
   ],
   "source": [
    "# Creation of String\n",
    "s=\"This is string\"\n",
    "print(\"String is:\",s)\n",
    "\n",
    "# Creation of Variable\n",
    "x = 5\n",
    "y = \"Ineuron\"\n",
    "print(\"Variable is\",x)\n",
    "print(\"Variable is\",y)"
   ]
  },
  {
   "cell_type": "markdown",
   "id": "706e1999",
   "metadata": {},
   "source": [
    "3. Describe three different data types.\n",
    "Ans: Python Data Types are used to define the type of a variable.\n",
    "    \n",
    "There are different types of data types in Python. Some built-in Python data types are:\n",
    "\n",
    "Numeric data types: int, float, complex\n",
    "\n",
    "String data types: str\n",
    "\n",
    "Sequence types: list, tuple, range\n",
    "\n",
    "Binary types: bytes, bytearray, memoryview\n",
    "\n",
    "Mapping data type: dict\n",
    "\n",
    "Boolean type: bool\n",
    "\n",
    "Set data types: set, frozenset"
   ]
  },
  {
   "cell_type": "markdown",
   "id": "7821a3b4",
   "metadata": {},
   "source": [
    "4. What is an expression made up of? What do all expressions do?\n",
    "Ans: A combination of operands and operators is called an expression. \n",
    "    The expression in Python produces some value or result after being interpreted by the Python interpreter."
   ]
  },
  {
   "cell_type": "code",
   "execution_count": 2,
   "id": "fd006170",
   "metadata": {},
   "outputs": [
    {
     "name": "stdout",
     "output_type": "stream",
     "text": [
      "35\n"
     ]
    }
   ],
   "source": [
    "x = 25          # a statement\n",
    "x = x + 10      # an expression\n",
    "\n",
    "print(x)"
   ]
  },
  {
   "cell_type": "markdown",
   "id": "a743ad45",
   "metadata": {},
   "source": [
    "5. This assignment statements, like spam = 10. What is the difference between an\n",
    "expression and a statement?\n",
    "Ans: An expression evaluates to single value\n",
    "     A statement does not evaluate to single value"
   ]
  },
  {
   "cell_type": "markdown",
   "id": "819398f1",
   "metadata": {},
   "source": [
    "6. After running the following code, what does the variable bacon contain?\n",
    "bacon = 22\n",
    "bacon + 1\n",
    "\n",
    "Ans: Bacon will be 22 , as +1 is not assignment statement"
   ]
  },
  {
   "cell_type": "markdown",
   "id": "7a50921d",
   "metadata": {},
   "source": [
    "7. What should the values of the following two terms be?\n",
    "   'spam' + 'spamspam'\n",
    "    'spam'*3\n",
    "Ans: 'spamspamspam' will be answer of both"
   ]
  },
  {
   "cell_type": "markdown",
   "id": "7d51a5fc",
   "metadata": {},
   "source": [
    "8.Why is eggs a valid variable name while 100 is invalid?\n",
    "Ans: Variables names cannot begin with a number."
   ]
  },
  {
   "cell_type": "markdown",
   "id": "fc950aa7",
   "metadata": {},
   "source": [
    "9. What three functions can be used to get the integer, floating-point number, or string\n",
    "version of a value?\n",
    "Ans: The int(), float(), and str() functions will evaluate to the integer, floating-point number, and string versions of the value passed to them."
   ]
  },
  {
   "cell_type": "markdown",
   "id": "8e5cc144",
   "metadata": {},
   "source": [
    " 10. Why does this expression cause an error? How can you fix it?\n",
    "'I have eaten'  + 99 + 'burritos.'\n",
    "\n",
    "Ans: It can concatenate string and not integer, 99 is integer."
   ]
  },
  {
   "cell_type": "code",
   "execution_count": null,
   "id": "a7404f29",
   "metadata": {},
   "outputs": [],
   "source": []
  }
 ],
 "metadata": {
  "kernelspec": {
   "display_name": "Python 3",
   "language": "python",
   "name": "python3"
  },
  "language_info": {
   "codemirror_mode": {
    "name": "ipython",
    "version": 3
   },
   "file_extension": ".py",
   "mimetype": "text/x-python",
   "name": "python",
   "nbconvert_exporter": "python",
   "pygments_lexer": "ipython3",
   "version": "3.9.12"
  }
 },
 "nbformat": 4,
 "nbformat_minor": 5
}
