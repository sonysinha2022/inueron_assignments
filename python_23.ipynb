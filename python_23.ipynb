{
 "cells": [
  {
   "cell_type": "code",
   "execution_count": null,
   "id": "d5f2a371",
   "metadata": {},
   "outputs": [],
   "source": [
    "1.What is the result of the code, and why?\n",
    "\n",
    ">>> def func(a, b=6, c=8):\n",
    "    print(a, b, c) \n",
    ">>> func(1, 2)"
   ]
  },
  {
   "cell_type": "code",
   "execution_count": 1,
   "id": "28804ce7",
   "metadata": {},
   "outputs": [
    {
     "name": "stdout",
     "output_type": "stream",
     "text": [
      "1 2 8\n"
     ]
    }
   ],
   "source": [
    "def func(a, b=6, c=8):\n",
    "    print(a, b, c)\n",
    "func(1, 2)\n",
    "\n",
    "# Ans. This funtion is taking a positional argument and 2 keyward argument.\n",
    "# When function call m is made, parameter passed are a=1,b=2. \n",
    "# When the function is executed , parameter c=8 will be taken by default as its a keyword argument."
   ]
  },
  {
   "cell_type": "code",
   "execution_count": null,
   "id": "e4c4f3a6",
   "metadata": {},
   "outputs": [],
   "source": [
    "2.What is the result of this code, and why?\n",
    "\n",
    ">>> def func(a, b, c=5):\n",
    "    print(a, b, c) \n",
    ">>> func(1, c=3, b=2)"
   ]
  },
  {
   "cell_type": "code",
   "execution_count": 6,
   "id": "c60c42a0",
   "metadata": {},
   "outputs": [
    {
     "name": "stdout",
     "output_type": "stream",
     "text": [
      "1 2 3\n"
     ]
    }
   ],
   "source": [
    "def func(a, b, c=5):\n",
    "    print(a, b, c)\n",
    "func(1, c=3, b=2)\n",
    "\n",
    "# When we make function call, order will be positional argument and then keywords arguments. "
   ]
  },
  {
   "cell_type": "code",
   "execution_count": null,
   "id": "fec9d29e",
   "metadata": {},
   "outputs": [],
   "source": [
    "3. How about this code: what is its result, and why? \n",
    "    >>> def func(a, *pargs):\n",
    "        print(a, pargs) \n",
    "    >>> func(1, 2, 3)"
   ]
  },
  {
   "cell_type": "code",
   "execution_count": 11,
   "id": "c00e5b68",
   "metadata": {},
   "outputs": [
    {
     "name": "stdout",
     "output_type": "stream",
     "text": [
      "1 (2, 3)\n"
     ]
    }
   ],
   "source": [
    "def func(a, *pargs):\n",
    "    print(a, pargs)\n",
    "func(1, 2, 3)\n",
    "# The return type of *args parameter is tuple"
   ]
  },
  {
   "cell_type": "code",
   "execution_count": null,
   "id": "6a217851",
   "metadata": {},
   "outputs": [],
   "source": [
    "4.What does this code print, and why?\n",
    "\n",
    ">>> def func(a, **kargs):\n",
    "    print(a, kargs) \n",
    ">>> func(a=1, c=3, b=2)"
   ]
  },
  {
   "cell_type": "code",
   "execution_count": 13,
   "id": "43596c10",
   "metadata": {},
   "outputs": [
    {
     "name": "stdout",
     "output_type": "stream",
     "text": [
      "1 {'c': 3, 'b': 2}\n"
     ]
    }
   ],
   "source": [
    "def func(a, **kargs):\n",
    "    print(a, kargs)\n",
    "func(a=1, c=3, b=2)\n",
    "\n",
    "# The return type of  **kargs is  dictionary"
   ]
  },
  {
   "cell_type": "code",
   "execution_count": null,
   "id": "88258c92",
   "metadata": {},
   "outputs": [],
   "source": [
    "5.What gets printed by this, and explain?\n",
    "\n",
    ">>> def func(a, b, c=8, d=5):\n",
    "    print(a, b, c, d) \n",
    ">>> func(1, *(5, 6))"
   ]
  },
  {
   "cell_type": "code",
   "execution_count": 14,
   "id": "13412b5e",
   "metadata": {},
   "outputs": [
    {
     "name": "stdout",
     "output_type": "stream",
     "text": [
      "1 5 6 5\n"
     ]
    }
   ],
   "source": [
    "def func(a, b, c=8, d=5): \n",
    "    print(a, b, c, d)\n",
    "func(1, *(5, 6))\n",
    "\n",
    "# '*' is the unpacking operator and are operators that unpack the values from iterable objects in Python.\n",
    "# The single  asterisk operator * can be used on any iterable that Python provides, \n",
    "# while the double asterisk operator ** can only be used on dictionaries.\n",
    "# In above the value *(5,6) is  unpacked and will be assigned to b and c and passed  as arguments,\n",
    "# d =5 will taken by defaults are keyword arguments."
   ]
  },
  {
   "cell_type": "code",
   "execution_count": null,
   "id": "f209861d",
   "metadata": {},
   "outputs": [],
   "source": [
    "6.hat is the result of this, and explain?\n",
    "\n",
    ">>> def func(a, b, c):\n",
    "    a = 2; b[0] = 'x'; c['a'] = 'y' \n",
    ">>> l=1; m=[1]; n={'a':0} \n",
    ">>> func(l, m, n)\n",
    "\n",
    ">>> l, m, n"
   ]
  },
  {
   "cell_type": "code",
   "execution_count": 16,
   "id": "f5c8bf94",
   "metadata": {
    "scrolled": true
   },
   "outputs": [
    {
     "data": {
      "text/plain": [
       "(1, ['x'], {'a': 'y'})"
      ]
     },
     "execution_count": 16,
     "metadata": {},
     "output_type": "execute_result"
    }
   ],
   "source": [
    "def func(a, b, c): \n",
    "    a = 2; b[0] = 'x'; c['a'] = 'y'\n",
    "    \n",
    "l=1; m=[1]; n={'a':0}\n",
    "func(l, m, n)\n",
    "\n",
    "l, m, n\n",
    "\n",
    "# The list and dict are passed as argument, and those are mutable.\n",
    "# the list l and parameter b point  to the same list in the memory location\n",
    "# where as dict n and c point to the same memory location. \n",
    "# Any updates to this list will update in the memory location\n",
    "\n",
    "#l = 1 , integer values, immutable, m is list, mutable, n is dict, mutable."
   ]
  },
  {
   "cell_type": "code",
   "execution_count": null,
   "id": "ff73d5f5",
   "metadata": {},
   "outputs": [],
   "source": []
  }
 ],
 "metadata": {
  "kernelspec": {
   "display_name": "Python 3",
   "language": "python",
   "name": "python3"
  },
  "language_info": {
   "codemirror_mode": {
    "name": "ipython",
    "version": 3
   },
   "file_extension": ".py",
   "mimetype": "text/x-python",
   "name": "python",
   "nbconvert_exporter": "python",
   "pygments_lexer": "ipython3",
   "version": "3.10.6"
  }
 },
 "nbformat": 4,
 "nbformat_minor": 5
}
