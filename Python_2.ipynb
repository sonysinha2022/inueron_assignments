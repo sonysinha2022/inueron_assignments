{
 "cells": [
  {
   "cell_type": "markdown",
   "id": "19e350d6",
   "metadata": {},
   "source": [
    "#Assignment no 2\n",
    "\n",
    "#Python Programming"
   ]
  },
  {
   "cell_type": "markdown",
   "id": "b63044fc",
   "metadata": {},
   "source": [
    "1.What are the two values of the Boolean data type? How do you write them?\n",
    "Ans: The two values are True and False.\n",
    "    We write using capital T and F, with the rest of the word in lowercase"
   ]
  },
  {
   "cell_type": "markdown",
   "id": "8b3ef971",
   "metadata": {},
   "source": [
    "2.What are the three different types of Boolean operators?\n",
    "Ans: The three different types of Boolean operators are and, or, and not"
   ]
  },
  {
   "cell_type": "markdown",
   "id": "6d1a3cc5",
   "metadata": {},
   "source": [
    "3.Make a list of each Boolean operator (i.e. every possible combination of Boolean\n",
    "values for the operator and what it evaluate ).\n",
    "Ans:  True and True is True.\n",
    "\n",
    "True and False is False.\n",
    "\n",
    "False and True is False.\n",
    "\n",
    "False and False is False.\n",
    "\n",
    "True or True is True.\n",
    "\n",
    "True or False is True.\n",
    "\n",
    "False or True is True.\n",
    "\n",
    "False or False is False.\n",
    "\n",
    "not True is False.\n",
    "\n",
    "not False is True."
   ]
  },
  {
   "cell_type": "markdown",
   "id": "6713ca79",
   "metadata": {},
   "source": [
    "4. What are the values of the following expressions?\n",
    "(5 > 4) and (3 == 5)                 Ans: False\n",
    "not (5 > 4)                          Ans: False\n",
    "(5 > 4) or (3 == 5)                  Ans: True\n",
    "not ((5 > 4) or (3 == 5))            Ans: False\n",
    "(True and True) and (True == False)  Ans: False\n",
    "(not False) or (not True)            Ans: True\n"
   ]
  },
  {
   "cell_type": "markdown",
   "id": "db8cd762",
   "metadata": {},
   "source": [
    "5. What are the six comparison operators?\n",
    "Ans: The six comparison operators are ==, !=, <, >, <=, and >="
   ]
  },
  {
   "cell_type": "markdown",
   "id": "994ddecd",
   "metadata": {},
   "source": [
    "6. How do you tell the difference between the equal to and assignment operators?Describe a\n",
    "condition and when you would use one.\n",
    "Ans: Equal to  ==  operator that compares two values and evaluates to a Boolean.\n",
    "while assignment operators =  that stores a value in a variable."
   ]
  },
  {
   "cell_type": "markdown",
   "id": "594b1d7f",
   "metadata": {},
   "source": [
    "7. Identify the three blocks in this code:\n",
    "spam = 0\n",
    "if spam == 10:\n",
    "print('eggs')\n",
    "if spam > 5:\n",
    "print('bacon')\n",
    "else:\n",
    "print('ham')\n",
    "print('spam')\n",
    "print('spam')\n",
    "Ans: The three blocks are everything inside the if statement and the lines print('bacon') and print('ham')."
   ]
  },
  {
   "cell_type": "markdown",
   "id": "3f972b38",
   "metadata": {},
   "source": [
    " 8. Write code that prints Hello if 1 is stored in spam, prints Howdy if 2 is stored in spam, and prints\n",
    " Greetings! if anything else is stored in spam.\n",
    "\n",
    "Ans: \n",
    "if spam == 1:\n",
    "    print('Hello')\n",
    "elif spam == 2:\n",
    "    print('Howdy')\n",
    "else:\n",
    "    print('Greetings!')"
   ]
  },
  {
   "cell_type": "markdown",
   "id": "e4edba8f",
   "metadata": {},
   "source": [
    "9.If your programme is stuck in an endless loop, what keys you’ll press?\n",
    "Ans: The keys  CTRL-C (press) to stop a program stuck in an infinite loop."
   ]
  },
  {
   "cell_type": "markdown",
   "id": "d9a7a1eb",
   "metadata": {},
   "source": [
    "10. How can you tell the difference between break and continue?\n",
    "Ans: The break statement will move the execution outside and just after a loop. \n",
    "     The continue statement will move the execution to the start of the loop."
   ]
  },
  {
   "cell_type": "markdown",
   "id": "9e106d21",
   "metadata": {},
   "source": [
    "11. In a for loop, what is the difference between range(10), range(0, 10), and range(0, 10, 1)?\n",
    "Ans:The range(10) call ranges from 0 up to (but not including) 10, \n",
    "    The range(0, 10) explicitly tells the loop to start at 0\n",
    "    The range(0, 10, 1) explicitly tells the loop to increase the variable by 1 on each iteration."
   ]
  },
  {
   "cell_type": "code",
   "execution_count": 1,
   "id": "c115d25d",
   "metadata": {},
   "outputs": [
    {
     "name": "stdout",
     "output_type": "stream",
     "text": [
      "1\n",
      "2\n",
      "3\n",
      "4\n",
      "5\n",
      "6\n",
      "7\n",
      "8\n",
      "9\n",
      "10\n"
     ]
    }
   ],
   "source": [
    "# 12. Write a short program that prints the numbers 1 to 10 using a for loop. \n",
    "for i in range(1,11):\n",
    "    print(i)"
   ]
  },
  {
   "cell_type": "code",
   "execution_count": 2,
   "id": "833296f7",
   "metadata": {},
   "outputs": [
    {
     "name": "stdout",
     "output_type": "stream",
     "text": [
      "1\n",
      "2\n",
      "3\n",
      "4\n",
      "5\n",
      "6\n",
      "7\n",
      "8\n",
      "9\n",
      "10\n"
     ]
    }
   ],
   "source": [
    "#12. Then write an equivalent program that prints the numbers 1 to 10 using a while loop\n",
    "i=1\n",
    "while i<11:\n",
    "    print(i)\n",
    "    i=i+1    "
   ]
  },
  {
   "cell_type": "markdown",
   "id": "52b14735",
   "metadata": {},
   "source": [
    "13. If you had a function named bacon() inside a module named spam, how would you call it after\n",
    "importing spam?\n",
    "Ans: The function can be called with spam.bacon()."
   ]
  }
 ],
 "metadata": {
  "kernelspec": {
   "display_name": "Python 3",
   "language": "python",
   "name": "python3"
  },
  "language_info": {
   "codemirror_mode": {
    "name": "ipython",
    "version": 3
   },
   "file_extension": ".py",
   "mimetype": "text/x-python",
   "name": "python",
   "nbconvert_exporter": "python",
   "pygments_lexer": "ipython3",
   "version": "3.9.12"
  }
 },
 "nbformat": 4,
 "nbformat_minor": 5
}
