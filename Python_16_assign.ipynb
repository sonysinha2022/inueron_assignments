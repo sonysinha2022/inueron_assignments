{
 "cells": [
  {
   "cell_type": "code",
   "execution_count": null,
   "id": "acafc653",
   "metadata": {},
   "outputs": [],
   "source": [
    "1. Create a list called years_list, starting with the year of your birth, and each year thereafter until\n",
    "the year of your fifth birthday. For example, if you were born in 1980. the list would be years_list =\n",
    "[1980, 1981, 1982, 1983, 1984, 1985]."
   ]
  },
  {
   "cell_type": "code",
   "execution_count": 1,
   "id": "d1990a3f",
   "metadata": {},
   "outputs": [
    {
     "data": {
      "text/plain": [
       "[1997, 1998, 1999, 2000, 2001, 2002]"
      ]
     },
     "execution_count": 1,
     "metadata": {},
     "output_type": "execute_result"
    }
   ],
   "source": [
    "years = [i for i in range(1997,1997+6)]\n",
    "years"
   ]
  },
  {
   "cell_type": "code",
   "execution_count": null,
   "id": "a7e66660",
   "metadata": {},
   "outputs": [],
   "source": [
    "2. In which year in years_list was your third birthday? Remember, you were 0 years of age for your\n",
    "first year."
   ]
  },
  {
   "cell_type": "code",
   "execution_count": 2,
   "id": "b06d33d3",
   "metadata": {},
   "outputs": [
    {
     "data": {
      "text/plain": [
       "2000"
      ]
     },
     "execution_count": 2,
     "metadata": {},
     "output_type": "execute_result"
    }
   ],
   "source": [
    "years[3]"
   ]
  },
  {
   "cell_type": "code",
   "execution_count": null,
   "id": "31fc9ef6",
   "metadata": {},
   "outputs": [],
   "source": [
    "3.In the years list, which year were you the oldest?"
   ]
  },
  {
   "cell_type": "code",
   "execution_count": 3,
   "id": "4df2a254",
   "metadata": {},
   "outputs": [
    {
     "data": {
      "text/plain": [
       "2002"
      ]
     },
     "execution_count": 3,
     "metadata": {},
     "output_type": "execute_result"
    }
   ],
   "source": [
    "max(years)"
   ]
  },
  {
   "cell_type": "code",
   "execution_count": null,
   "id": "6e381d97",
   "metadata": {},
   "outputs": [],
   "source": [
    "4. Make a list called things with these three strings as elements: \"mozzarella\", \"cinderella\",\n",
    "\"salmonella\"."
   ]
  },
  {
   "cell_type": "code",
   "execution_count": 4,
   "id": "f5e4a1db",
   "metadata": {},
   "outputs": [
    {
     "data": {
      "text/plain": [
       "['mozzarella', 'cinderella', 'salmonella']"
      ]
     },
     "execution_count": 4,
     "metadata": {},
     "output_type": "execute_result"
    }
   ],
   "source": [
    "strings = list(['mozzarella', 'cinderella','salmonella'])\n",
    "strings"
   ]
  },
  {
   "cell_type": "code",
   "execution_count": null,
   "id": "4e61837e",
   "metadata": {},
   "outputs": [],
   "source": [
    "5. Capitalize the element in things that refers to a person and then print the list. Did it change the\n",
    "element in the list?"
   ]
  },
  {
   "cell_type": "code",
   "execution_count": 5,
   "id": "32dd7f2d",
   "metadata": {},
   "outputs": [
    {
     "name": "stdout",
     "output_type": "stream",
     "text": [
      "Mozzarella\n",
      "Cinderella\n",
      "Salmonella\n"
     ]
    },
    {
     "data": {
      "text/plain": [
       "['mozzarella', 'cinderella', 'salmonella']"
      ]
     },
     "execution_count": 5,
     "metadata": {},
     "output_type": "execute_result"
    }
   ],
   "source": [
    "for i in strings:\n",
    "    print(i.capitalize())\n",
    "strings"
   ]
  },
  {
   "cell_type": "code",
   "execution_count": null,
   "id": "fbcd2fb6",
   "metadata": {},
   "outputs": [],
   "source": [
    "6.Make a surprise list with the elements \"Groucho\", \"Chico\", and \"Harpo\""
   ]
  },
  {
   "cell_type": "code",
   "execution_count": 6,
   "id": "6b50d880",
   "metadata": {},
   "outputs": [
    {
     "data": {
      "text/plain": [
       "['Groucho', 'Chico', 'Harpo']"
      ]
     },
     "execution_count": 6,
     "metadata": {},
     "output_type": "execute_result"
    }
   ],
   "source": [
    "surpriselist = [\"Groucho\", \"Chico\", \"Harpo\"]\n",
    "surpriselist    "
   ]
  },
  {
   "cell_type": "code",
   "execution_count": null,
   "id": "aa4ac59c",
   "metadata": {},
   "outputs": [],
   "source": [
    "7. Lowercase the last element of the surprise list, reverse it, and then capitalize it."
   ]
  },
  {
   "cell_type": "code",
   "execution_count": 7,
   "id": "0877c166",
   "metadata": {},
   "outputs": [
    {
     "data": {
      "text/plain": [
       "'harpo'"
      ]
     },
     "execution_count": 7,
     "metadata": {},
     "output_type": "execute_result"
    }
   ],
   "source": [
    "surpriselist[-1].lower()"
   ]
  },
  {
   "cell_type": "code",
   "execution_count": 8,
   "id": "8459feb9",
   "metadata": {},
   "outputs": [
    {
     "data": {
      "text/plain": [
       "'opraH'"
      ]
     },
     "execution_count": 8,
     "metadata": {},
     "output_type": "execute_result"
    }
   ],
   "source": [
    "surpriselist[-1][::-1]"
   ]
  },
  {
   "cell_type": "code",
   "execution_count": 11,
   "id": "d8904224",
   "metadata": {},
   "outputs": [
    {
     "data": {
      "text/plain": [
       "'OPRAH'"
      ]
     },
     "execution_count": 11,
     "metadata": {},
     "output_type": "execute_result"
    }
   ],
   "source": [
    "surpriselist[-1][::-1].upper()"
   ]
  },
  {
   "cell_type": "code",
   "execution_count": null,
   "id": "3d56ad3c",
   "metadata": {},
   "outputs": [],
   "source": [
    "8. Make an English-to-French dictionary called e2f and print it. Here are your starter words: dog is\n",
    "chien, cat is chat, and walrus is morse."
   ]
  },
  {
   "cell_type": "code",
   "execution_count": 12,
   "id": "c10b8429",
   "metadata": {},
   "outputs": [
    {
     "data": {
      "text/plain": [
       "{'dog': 'chien', 'cat': 'chat', 'walrus': 'morse'}"
      ]
     },
     "execution_count": 12,
     "metadata": {},
     "output_type": "execute_result"
    }
   ],
   "source": [
    "e2f = {'dog':'chien','cat':'chat','walrus':'morse'}\n",
    "e2f"
   ]
  },
  {
   "cell_type": "code",
   "execution_count": null,
   "id": "fb7a8295",
   "metadata": {},
   "outputs": [],
   "source": [
    "9. Write the French word for walrus in your three-word dictionary e2f."
   ]
  },
  {
   "cell_type": "code",
   "execution_count": 13,
   "id": "bb9ee5cb",
   "metadata": {},
   "outputs": [
    {
     "data": {
      "text/plain": [
       "'morse'"
      ]
     },
     "execution_count": 13,
     "metadata": {},
     "output_type": "execute_result"
    }
   ],
   "source": [
    "e2f['walrus']"
   ]
  },
  {
   "cell_type": "code",
   "execution_count": null,
   "id": "366ffe46",
   "metadata": {},
   "outputs": [],
   "source": [
    "10. Make a French-to-English dictionary called f2e from e2f. Use the items method dog is\n",
    "chien, cat is chat, and walrus is morse."
   ]
  },
  {
   "cell_type": "code",
   "execution_count": 14,
   "id": "08da3ee2",
   "metadata": {},
   "outputs": [
    {
     "data": {
      "text/plain": [
       "{'chien': 'dog', 'chat': 'cat', 'morse': 'walrus'}"
      ]
     },
     "execution_count": 14,
     "metadata": {},
     "output_type": "execute_result"
    }
   ],
   "source": [
    "f2e = dict((key,value) for value,key in e2f.items())\n",
    "f2e"
   ]
  },
  {
   "cell_type": "code",
   "execution_count": null,
   "id": "9d27b87f",
   "metadata": {},
   "outputs": [],
   "source": [
    "11. Print the English version of the French word chien using f2e."
   ]
  },
  {
   "cell_type": "code",
   "execution_count": 15,
   "id": "6dc9f5ad",
   "metadata": {},
   "outputs": [
    {
     "data": {
      "text/plain": [
       "'dog'"
      ]
     },
     "execution_count": 15,
     "metadata": {},
     "output_type": "execute_result"
    }
   ],
   "source": [
    "f2e['chien']"
   ]
  },
  {
   "cell_type": "code",
   "execution_count": null,
   "id": "d69021a7",
   "metadata": {},
   "outputs": [],
   "source": [
    "12. Make and print a set of English words from the keys in e2f."
   ]
  },
  {
   "cell_type": "code",
   "execution_count": 16,
   "id": "21e54c56",
   "metadata": {},
   "outputs": [
    {
     "data": {
      "text/plain": [
       "dict_keys(['dog', 'cat', 'walrus'])"
      ]
     },
     "execution_count": 16,
     "metadata": {},
     "output_type": "execute_result"
    }
   ],
   "source": [
    "e2f.keys()"
   ]
  },
  {
   "cell_type": "code",
   "execution_count": null,
   "id": "2dd022c8",
   "metadata": {},
   "outputs": [],
   "source": [
    "13.Make a multilevel dictionary called life. Use these strings for the topmost keys: 'animals', 'plants', and 'other'. Make the 'animals' key refer to another dictionary with the keys 'cats', 'octopi', and 'emus'. Make the 'cats' key refer to a list of strings with the values 'Henri', 'Grumpy', and 'Lucy'. Make all the other keys refer to empty dictionaries."
   ]
  },
  {
   "cell_type": "code",
   "execution_count": 17,
   "id": "7f6f4856",
   "metadata": {},
   "outputs": [
    {
     "data": {
      "text/plain": [
       "{'animals': {'cat': ['Henri', 'Grumpy', 'Lucy'], 'octopi': '', 'emus': ''},\n",
       " 'plants': '',\n",
       " 'other': ''}"
      ]
     },
     "execution_count": 17,
     "metadata": {},
     "output_type": "execute_result"
    }
   ],
   "source": [
    "life ={'animals':{'cat':['Henri', 'Grumpy', 'Lucy'], 'octopi':'', 'emus':''},\n",
    "       'plants' :'',\n",
    "       'other' :'' }\n",
    "life"
   ]
  },
  {
   "cell_type": "code",
   "execution_count": 18,
   "id": "5a0d96a6",
   "metadata": {},
   "outputs": [
    {
     "data": {
      "text/plain": [
       "dict_keys(['animals', 'plants', 'other'])"
      ]
     },
     "execution_count": 18,
     "metadata": {},
     "output_type": "execute_result"
    }
   ],
   "source": [
    "# 14. Print the top-level keys of life.\n",
    "\n",
    "life.keys()"
   ]
  },
  {
   "cell_type": "code",
   "execution_count": 19,
   "id": "aa6d407f",
   "metadata": {},
   "outputs": [
    {
     "data": {
      "text/plain": [
       "dict_keys(['cat', 'octopi', 'emus'])"
      ]
     },
     "execution_count": 19,
     "metadata": {},
     "output_type": "execute_result"
    }
   ],
   "source": [
    "# Print the keys for life['animals'].\n",
    "\n",
    "life['animals'].keys()"
   ]
  },
  {
   "cell_type": "code",
   "execution_count": 20,
   "id": "8363f7b6",
   "metadata": {},
   "outputs": [
    {
     "data": {
      "text/plain": [
       "['Henri', 'Grumpy', 'Lucy']"
      ]
     },
     "execution_count": 20,
     "metadata": {},
     "output_type": "execute_result"
    }
   ],
   "source": [
    "# Print the values for life['animals']['cat']\n",
    "\n",
    "life['animals']['cat']"
   ]
  },
  {
   "cell_type": "code",
   "execution_count": null,
   "id": "aa07d70d",
   "metadata": {},
   "outputs": [],
   "source": []
  }
 ],
 "metadata": {
  "kernelspec": {
   "display_name": "Python 3",
   "language": "python",
   "name": "python3"
  },
  "language_info": {
   "codemirror_mode": {
    "name": "ipython",
    "version": 3
   },
   "file_extension": ".py",
   "mimetype": "text/x-python",
   "name": "python",
   "nbconvert_exporter": "python",
   "pygments_lexer": "ipython3",
   "version": "3.9.12"
  }
 },
 "nbformat": 4,
 "nbformat_minor": 5
}
