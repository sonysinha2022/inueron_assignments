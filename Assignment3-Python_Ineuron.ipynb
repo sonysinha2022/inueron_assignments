{
 "cells": [
  {
   "cell_type": "raw",
   "id": "e4c055eb",
   "metadata": {},
   "source": [
    "#Assignment no 3\n",
    "\n",
    "#Python Programming"
   ]
  },
  {
   "cell_type": "raw",
   "id": "1a099a21",
   "metadata": {},
   "source": [
    "1. Why are functions advantageous to have in your programs?\n",
    "Ans: Functions makes programs shorter, easier to read,  easier to update and reduce the need for duplication of codes"
   ]
  },
  {
   "cell_type": "raw",
   "id": "4df0cb5e",
   "metadata": {},
   "source": [
    "2. When does the code in a function run: when it is specified or when it is called?\n",
    "Ans: The code in a function executes when the function is called, not when the function is defined or specified"
   ]
  },
  {
   "cell_type": "raw",
   "id": "a4f42608",
   "metadata": {},
   "source": [
    "3. What statement creates a function?\n",
    "Ans:The def statement defines creating a function."
   ]
  },
  {
   "cell_type": "raw",
   "id": "1f90c8af",
   "metadata": {},
   "source": [
    "4. What is the difference between a function and a function call?\n",
    "Ans: A function consists of the def statement and the code in its def clause. \n",
    "     A function call is what makes the program execution into the function, and the function call evaluates to the function’s return value."
   ]
  },
  {
   "cell_type": "raw",
   "id": "c268a095",
   "metadata": {},
   "source": [
    "5. How many global scopes are there in a Python program? How many local scopes?\n",
    "Ans: There is one global scope, and a local scope is created whenever a function is called."
   ]
  },
  {
   "cell_type": "raw",
   "id": "18130b58",
   "metadata": {},
   "source": [
    "6. What happens to variables in a local scope when the function call returns?\n",
    "Ans: When a function call returns, the local scope is destroyed, and all the variables in it are forgotten."
   ]
  },
  {
   "cell_type": "raw",
   "id": "44a07583",
   "metadata": {},
   "source": [
    "7. What is the concept of a return value? Is it possible to have a return value in an expression?\n",
    "Ans: A return value is the value that a function call evaluates to. \n",
    "     A return value can be used as part of an expression."
   ]
  },
  {
   "cell_type": "raw",
   "id": "b9633af3",
   "metadata": {},
   "source": [
    "8. If a function does not have a return statement, what is the return value of a call to that function?\n",
    "Ans: When there is no return statement for a function, its return value is None."
   ]
  },
  {
   "cell_type": "raw",
   "id": "40fd606b",
   "metadata": {},
   "source": [
    " 9. How do you make a function variable refer to the global variable?\n",
    "Ans: To make a global variable inside a function, we use the global keyword."
   ]
  },
  {
   "cell_type": "raw",
   "id": "7f9ced1d",
   "metadata": {},
   "source": [
    "10. What is the data type of None?\n",
    "Ans: The data type of None is NoneType."
   ]
  },
  {
   "cell_type": "raw",
   "id": "b09bc337",
   "metadata": {},
   "source": [
    "11. What does the sentence import areallyourpetsnamederic do?\n",
    "Ans: The import statement imports a module named areallyourpetsnamederic. "
   ]
  },
  {
   "cell_type": "raw",
   "id": "578a7d85",
   "metadata": {},
   "source": [
    "12. If you had a bacon() feature in a spam module, what would you call it after importing spam?\n",
    "Ans: This function could be called with spam.bacon()."
   ]
  },
  {
   "cell_type": "raw",
   "id": "81e42eb3",
   "metadata": {},
   "source": [
    "13. What can you do to save a programme from crashing if it encounters an error?\n",
    "Ans:To save a programme from crashing if it encounters an error, the line of code that might cause an error can be placed in a try clause."
   ]
  },
  {
   "cell_type": "raw",
   "id": "11108523",
   "metadata": {},
   "source": [
    "14. What is the purpose of the try clause? What is the purpose of the except clause?\n",
    "Ans: The code that could potentially cause an error goes in the try clause. \n",
    "     The code that executes if an error happens goes in the except clause."
   ]
  }
 ],
 "metadata": {
  "kernelspec": {
   "display_name": "Python 3 (ipykernel)",
   "language": "python",
   "name": "python3"
  },
  "language_info": {
   "codemirror_mode": {
    "name": "ipython",
    "version": 3
   },
   "file_extension": ".py",
   "mimetype": "text/x-python",
   "name": "python",
   "nbconvert_exporter": "python",
   "pygments_lexer": "ipython3",
   "version": "3.9.12"
  }
 },
 "nbformat": 4,
 "nbformat_minor": 5
}
