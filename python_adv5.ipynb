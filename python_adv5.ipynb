{
 "cells": [
  {
   "cell_type": "code",
   "execution_count": null,
   "id": "193bbbf3",
   "metadata": {},
   "outputs": [],
   "source": [
    "Q1. What is the meaning of multiple inheritance?\n",
    "\n",
    "Ans: Inheritence is  reusing the code of Parent class by the child class. \n",
    "     when a child class inherits its properties from multiple Parent classes this scenario is called Multiple Inheritence"
   ]
  },
  {
   "cell_type": "code",
   "execution_count": 2,
   "id": "ae559f66",
   "metadata": {},
   "outputs": [],
   "source": [
    "class one_parent:\n",
    "    pass\n",
    "class two_parent:\n",
    "    pass\n",
    "class child(parent_one,parent_two):\n",
    "    pass"
   ]
  },
  {
   "cell_type": "code",
   "execution_count": null,
   "id": "26efc68e",
   "metadata": {},
   "outputs": [],
   "source": [
    "Q2. What is the concept of delegation?\n",
    "\n",
    "Ans: Delegation provides a proxy object for any class thay you want on top of the main class. \n",
    "     Its like a wrapper to your class so that you can access limited resources of the main class.\n",
    "    It Wraps the object of main class into a smaller object with limited access\n",
    "\n",
    "Delegation is to include a instance of another class as an instance variable, and forward messages to the instance."
   ]
  },
  {
   "cell_type": "code",
   "execution_count": 10,
   "id": "4b1bcc42",
   "metadata": {},
   "outputs": [
    {
     "name": "stdout",
     "output_type": "stream",
     "text": [
      "hello world\n",
      "hello world\n",
      "hello world\n",
      "hello class\n"
     ]
    }
   ],
   "source": [
    "class Myclass:\n",
    "    def world(self):\n",
    "        print('hello world')\n",
    "    def earth(self):\n",
    "        print('hello class')\n",
    "class NewClass:\n",
    "    def __init__(self,obj):\n",
    "        self.main = obj\n",
    "    def story(self):\n",
    "        self.main.world()\n",
    "\n",
    "m = Myclass()        \n",
    "n = NewClass(m)\n",
    "m.world()\n",
    "n.main.world()\n",
    "n.story()\n",
    "n.main.earth()"
   ]
  },
  {
   "cell_type": "code",
   "execution_count": null,
   "id": "4ea1dc7d",
   "metadata": {},
   "outputs": [],
   "source": [
    "Q3. What is the concept of composition?\n",
    "\n",
    "Ans: In the concept of Composition, a class refers to one or more other classes by using instances of those classes as a instance variable ,\n",
    "     irrespective of inheritence in this approach all the parent class members are not inherited into child class, but only required methods from a class are used by using class instances."
   ]
  },
  {
   "cell_type": "code",
   "execution_count": 27,
   "id": "62134e49",
   "metadata": {},
   "outputs": [
    {
     "name": "stdout",
     "output_type": "stream",
     "text": [
      "Total Salary : 4800\n"
     ]
    }
   ],
   "source": [
    "class salary:\n",
    "    def __init__(self,pay):\n",
    "        self.pay = pay\n",
    "    def get_total(self):\n",
    "        return self.pay*4\n",
    "    \n",
    "class employee:\n",
    "    def __init__(self,pay,bonus):\n",
    "        self.pay = pay\n",
    "        self.bonus = bonus\n",
    "        self.obj_salary = salary(self.pay)\n",
    "    def annual_salary(self):\n",
    "        return f'Total Salary : {str(self.obj_salary.get_total())}'\n",
    "\n",
    "obj_emp =employee(1200,400)\n",
    "print(obj_emp.annual_salary())"
   ]
  },
  {
   "cell_type": "code",
   "execution_count": null,
   "id": "8b83df05",
   "metadata": {},
   "outputs": [],
   "source": [
    "Q4. What are bound methods and how do we use them?\n",
    "\n",
    "Ans: If a function is an attribute of class and it is accessed via the instances, they are called bound methods. \n",
    "    A bound method is one that has self as its first argument. \n",
    "    Since these are dependent on the instance of classes, these are also known as instance methods."
   ]
  },
  {
   "cell_type": "code",
   "execution_count": 21,
   "id": "3d93a8ef",
   "metadata": {},
   "outputs": [
    {
     "name": "stdout",
     "output_type": "stream",
     "text": [
      "Calling method_one\n",
      "Calling method_two\n",
      "Called method_two\n",
      "Called method_three\n"
     ]
    }
   ],
   "source": [
    "class methodss:\n",
    "    def method_1(self): # bound method\n",
    "        print(\"Calling method_one\")\n",
    "    @classmethod\n",
    "    def method_2(clas): # unbound method\n",
    "        print(\"Calling method_two\")\n",
    "    @staticmethod\n",
    "    def method_three(): # static method\n",
    "        print(\"Calling method_three\")\n",
    "\n",
    "test = methodss()\n",
    "test.method_1() # accessing through instance object\n",
    "test.method_2() # accessing through instance object\n",
    "Test.method_two() # accessing directly through class\n",
    "Test.method_three() # accessing directly through class"
   ]
  },
  {
   "cell_type": "code",
   "execution_count": null,
   "id": "1f0de676",
   "metadata": {},
   "outputs": [],
   "source": [
    "Q5. What is the purpose of pseudoprivate attributes?\n",
    "\n",
    "Ans: Pseudoprivate attributes are also useful in larger frameworks or tools, both to avoid introducing new method names that might accidentally hide definitions elsewhere in the class tree and to reduce the chance of internal methods being replaced by names defined lower in the tree. \n",
    "     If a method is intended for use only within a class that may be mixed into other classes, the double underscore prefix ensures that the method won't interfere with other names in the tree, especially in multiple-inheritance scenarios\n",
    "\n",
    "    Pseudoprivate names also prevent subclasses from accidentally redefining the internal method's names,"
   ]
  },
  {
   "cell_type": "code",
   "execution_count": 34,
   "id": "31023284",
   "metadata": {},
   "outputs": [],
   "source": [
    "class Super:\n",
    "    def method(self): \n",
    "        pass\n",
    "class Tool:\n",
    "    def s_method(self):\n",
    "        pass\n",
    "    def other(self): \n",
    "        self._method()\n",
    "class Sub_l(Tool,Super):\n",
    "    def actions(self):\n",
    "        self.method()\n",
    "class Sub_2(Tool):\n",
    "    def __init__(self):\n",
    "        self.method = 126"
   ]
  },
  {
   "cell_type": "code",
   "execution_count": null,
   "id": "56ed58b5",
   "metadata": {},
   "outputs": [],
   "source": []
  }
 ],
 "metadata": {
  "kernelspec": {
   "display_name": "Python 3",
   "language": "python",
   "name": "python3"
  },
  "language_info": {
   "codemirror_mode": {
    "name": "ipython",
    "version": 3
   },
   "file_extension": ".py",
   "mimetype": "text/x-python",
   "name": "python",
   "nbconvert_exporter": "python",
   "pygments_lexer": "ipython3",
   "version": "3.10.6"
  }
 },
 "nbformat": 4,
 "nbformat_minor": 5
}
