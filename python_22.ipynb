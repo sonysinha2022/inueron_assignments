{
 "cells": [
  {
   "cell_type": "code",
   "execution_count": null,
   "id": "0863debe",
   "metadata": {},
   "outputs": [],
   "source": [
    "1. What is the result of the code, and explain?\n",
    "\n",
    "X = 'iNeuron'\n",
    ">>> def func(): \n",
    "    print(X)\n",
    "\n",
    ">>> func()"
   ]
  },
  {
   "cell_type": "code",
   "execution_count": 1,
   "id": "c5ba4703",
   "metadata": {},
   "outputs": [
    {
     "name": "stdout",
     "output_type": "stream",
     "text": [
      "iNeuron\n"
     ]
    }
   ],
   "source": [
    "X = 'iNeuron'\n",
    "def func():\n",
    "    print(X)\n",
    "func()\n",
    "\n",
    "# X is global variable  and are accessible in side the functions in python, so it is printed"
   ]
  },
  {
   "cell_type": "code",
   "execution_count": null,
   "id": "7d12a875",
   "metadata": {},
   "outputs": [],
   "source": [
    "2. What is the result of the code, and explain?"
   ]
  },
  {
   "cell_type": "code",
   "execution_count": 2,
   "id": "59ff8e8c",
   "metadata": {},
   "outputs": [
    {
     "name": "stdout",
     "output_type": "stream",
     "text": [
      "iNeuron\n"
     ]
    }
   ],
   "source": [
    "X = 'iNeuron'\n",
    "def func():\n",
    "    X = 'NI!'\n",
    "\n",
    "func()\n",
    "print(X)\n",
    "\n",
    "# X is global variable, The global variables are access in side the functions in python. But we can not access function variable out side"
   ]
  },
  {
   "cell_type": "code",
   "execution_count": 4,
   "id": "a8d4dd89",
   "metadata": {},
   "outputs": [
    {
     "name": "stdout",
     "output_type": "stream",
     "text": [
      "NI!\n",
      "iNeuron\n"
     ]
    }
   ],
   "source": [
    "# 3. What does this code print, and why?\n",
    "\n",
    "X = 'iNeuron'\n",
    "def func():\n",
    "    X = 'NI!'\n",
    "    print(X)\n",
    "\n",
    "func()\n",
    "print(X)\n",
    "\n",
    "# X is printed with 'NI' which is local to function and its immutable. "
   ]
  },
  {
   "cell_type": "code",
   "execution_count": null,
   "id": "61cb9b36",
   "metadata": {},
   "outputs": [],
   "source": [
    "4. What output does this code produce? Why?\n",
    ">> X = 'iNeuron' \n",
    ">>> def func():\n",
    "    global X\n",
    "    X = 'NI'\n",
    "\n",
    ">>> func()\n",
    ">>> print(X)"
   ]
  },
  {
   "cell_type": "code",
   "execution_count": 7,
   "id": "416a3269",
   "metadata": {},
   "outputs": [
    {
     "name": "stdout",
     "output_type": "stream",
     "text": [
      "NI!\n"
     ]
    }
   ],
   "source": [
    "X = 'iNeuron'\n",
    "def func():\n",
    "    global X\n",
    "    X = 'NI!'\n",
    "\n",
    "func()\n",
    "print(X)\n",
    "# X is global variable, accessible inside function too,and is assiged new value 'NI!'"
   ]
  },
  {
   "cell_type": "code",
   "execution_count": null,
   "id": "7a584cb1",
   "metadata": {},
   "outputs": [],
   "source": [
    "5. What about this code—what’s the output, and why?\n",
    "\n",
    ">>> X = 'iNeuron' \n",
    ">>> def func():\n",
    "    X = 'NI' \n",
    "    def nested():\n",
    "        print(X) \n",
    "    nested()\n",
    ">>> func()\n",
    ">>> X"
   ]
  },
  {
   "cell_type": "code",
   "execution_count": 10,
   "id": "1d543490",
   "metadata": {},
   "outputs": [
    {
     "name": "stdout",
     "output_type": "stream",
     "text": [
      "iNeuron\n"
     ]
    },
    {
     "data": {
      "text/plain": [
       "'iNeuron'"
      ]
     },
     "execution_count": 10,
     "metadata": {},
     "output_type": "execute_result"
    }
   ],
   "source": [
    "X = 'iNeuron'\n",
    "def func():\n",
    "    X = 'NI'\n",
    "def nested():\n",
    "    print(X)\n",
    "    \n",
    "nested()\n",
    "func()\n",
    "X\n",
    "\n",
    "# The nested() function will print 'iNeuron', Then func() does not display anything,\n",
    "# and X ='NI' is not accessible out side the function.\n"
   ]
  },
  {
   "cell_type": "code",
   "execution_count": null,
   "id": "5d7c1a8e",
   "metadata": {},
   "outputs": [],
   "source": [
    "6.How about this code: what is its output in Python 3, and explain?\n",
    "\n",
    ">>> def func():\n",
    "    X = 'NI' \n",
    "    def nested():\n",
    "        nonlocal X\n",
    "        X = 'Spam' \n",
    "    nested() \n",
    "    print(X)\n",
    "\n",
    ">>> func()"
   ]
  },
  {
   "cell_type": "code",
   "execution_count": 13,
   "id": "e413f22b",
   "metadata": {},
   "outputs": [
    {
     "name": "stdout",
     "output_type": "stream",
     "text": [
      "spam\n"
     ]
    }
   ],
   "source": [
    "def func():\n",
    "    X = 'NI'\n",
    "    def nested():\n",
    "        nonlocal X\n",
    "        X = 'spam'\n",
    "    nested()\n",
    "    print(X)\n",
    "\n",
    "func()\n",
    "\n",
    "# Nonlocal variables are used in nested functions whose local scope is not defined. \n",
    "# This means that the variable can be neither in the local nor the global scope. \n",
    "# it print the updated value from nested function"
   ]
  },
  {
   "cell_type": "code",
   "execution_count": null,
   "id": "dc666da7",
   "metadata": {},
   "outputs": [],
   "source": []
  }
 ],
 "metadata": {
  "kernelspec": {
   "display_name": "Python 3",
   "language": "python",
   "name": "python3"
  },
  "language_info": {
   "codemirror_mode": {
    "name": "ipython",
    "version": 3
   },
   "file_extension": ".py",
   "mimetype": "text/x-python",
   "name": "python",
   "nbconvert_exporter": "python",
   "pygments_lexer": "ipython3",
   "version": "3.10.6"
  }
 },
 "nbformat": 4,
 "nbformat_minor": 5
}
