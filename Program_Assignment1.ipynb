{
 "cells": [
  {
   "cell_type": "code",
   "execution_count": null,
   "id": "e6a4423a",
   "metadata": {},
   "outputs": [],
   "source": [
    "1. Write a Python program to print \"Hello Python\"?"
   ]
  },
  {
   "cell_type": "code",
   "execution_count": 1,
   "id": "5173e99e",
   "metadata": {},
   "outputs": [
    {
     "name": "stdout",
     "output_type": "stream",
     "text": [
      "Hello Python\n"
     ]
    }
   ],
   "source": [
    "print(\"Hello Python\")"
   ]
  },
  {
   "cell_type": "code",
   "execution_count": null,
   "id": "c4015ba7",
   "metadata": {},
   "outputs": [],
   "source": [
    "2. Write a Python program to do arithmetical operations addition and division.?"
   ]
  },
  {
   "cell_type": "code",
   "execution_count": 4,
   "id": "f026f9da",
   "metadata": {},
   "outputs": [
    {
     "name": "stdout",
     "output_type": "stream",
     "text": [
      "Enter First number :90\n",
      "Enter Second number :45\n",
      "*********Addition***********\n",
      "90 + 45 = 135\n",
      "***********Division**********\n",
      "90 / 45 = 2.0\n"
     ]
    }
   ],
   "source": [
    "#Addition operation\n",
    "def add(n1, n2):\n",
    "    return n1+n2\n",
    "\n",
    "#Division operation\n",
    "def divide(n1, n2):\n",
    "    return n1 / n2\n",
    "\n",
    "num1= int(input(\"Enter First number :\"))\n",
    "num2 = int(input(\"Enter Second number :\"))\n",
    "\n",
    "\n",
    "print(\"*********Addition***********\")\n",
    "print(num1,\"+\" ,num2,\"=\", add(num1,num2))\n",
    "\n",
    "print(\"***********Division**********\")\n",
    "print(num1,\"/\", num2,\"=\",divide(num1, num2))"
   ]
  },
  {
   "cell_type": "code",
   "execution_count": null,
   "id": "55af8a11",
   "metadata": {},
   "outputs": [],
   "source": [
    "3. Write a Python program to find the area of a triangle?"
   ]
  },
  {
   "cell_type": "code",
   "execution_count": 5,
   "id": "dc5351b5",
   "metadata": {},
   "outputs": [
    {
     "name": "stdout",
     "output_type": "stream",
     "text": [
      "Enter height of the triangle: 20\n",
      "Enter base of the triangle: 40\n",
      "Area of triangle =  400.0\n"
     ]
    }
   ],
   "source": [
    "h = float(input(\"Enter height of the triangle: \"))\n",
    "b = float(input(\"Enter base of the triangle: \"))\n",
    "area = 0.5 * b * h\n",
    "print(\"Area of triangle = \", area)"
   ]
  },
  {
   "cell_type": "code",
   "execution_count": null,
   "id": "a3712379",
   "metadata": {},
   "outputs": [],
   "source": [
    "4. Write a Python program to swap two variables?"
   ]
  },
  {
   "cell_type": "code",
   "execution_count": 6,
   "id": "3ae8f096",
   "metadata": {},
   "outputs": [
    {
     "name": "stdout",
     "output_type": "stream",
     "text": [
      "Enter value of x: 56\n",
      "Enter value of y: 78\n",
      "The value of x after swapping: 78\n",
      "The value of y after swapping: 56\n"
     ]
    }
   ],
   "source": [
    "# Python program to swap two variables\n",
    "\n",
    "\n",
    "# To take inputs from the user\n",
    "x = input('Enter value of x: ')\n",
    "y = input('Enter value of y: ')\n",
    "\n",
    "# create a temporary variable and swap the values\n",
    "temp = x\n",
    "x = y\n",
    "y = temp\n",
    "\n",
    "print('The value of x after swapping: {}'.format(x))\n",
    "print('The value of y after swapping: {}'.format(y))"
   ]
  },
  {
   "cell_type": "code",
   "execution_count": null,
   "id": "33a18873",
   "metadata": {},
   "outputs": [],
   "source": [
    "5. Write a Python program to generate a random number?"
   ]
  },
  {
   "cell_type": "code",
   "execution_count": 8,
   "id": "d0e379e0",
   "metadata": {},
   "outputs": [
    {
     "name": "stdout",
     "output_type": "stream",
     "text": [
      "0.33833869034970054\n"
     ]
    }
   ],
   "source": [
    "import random  \n",
    "n = random.random()  \n",
    "print(n)  "
   ]
  },
  {
   "cell_type": "code",
   "execution_count": null,
   "id": "1ad364bc",
   "metadata": {},
   "outputs": [],
   "source": []
  }
 ],
 "metadata": {
  "kernelspec": {
   "display_name": "Python 3",
   "language": "python",
   "name": "python3"
  },
  "language_info": {
   "codemirror_mode": {
    "name": "ipython",
    "version": 3
   },
   "file_extension": ".py",
   "mimetype": "text/x-python",
   "name": "python",
   "nbconvert_exporter": "python",
   "pygments_lexer": "ipython3",
   "version": "3.10.6"
  }
 },
 "nbformat": 4,
 "nbformat_minor": 5
}
