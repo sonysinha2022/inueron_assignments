{
 "cells": [
  {
   "cell_type": "code",
   "execution_count": 4,
   "id": "e14b46d7",
   "metadata": {},
   "outputs": [
    {
     "name": "stdout",
     "output_type": "stream",
     "text": [
      "['Science', 'trending']\n"
     ]
    }
   ],
   "source": [
    "1. Write a Python program to find words which are greater than given length k?\n",
    "\n",
    "# Python program to find all string which are greater than given length k\n",
    "# function find string greater than length k\n",
    " \n",
    "\n",
    "def string_k(k, str):\n",
    "    string = []\n",
    "    text = str.split(\" \")\n",
    "    for x in text:\n",
    "        if len(x) > k:\n",
    "            string.append(x)\n",
    "    return string\n",
    "k = 5\n",
    "str = \"Data Science is trending\"\n",
    "print(string_k(k, str))"
   ]
  },
  {
   "cell_type": "code",
   "execution_count": null,
   "id": "65143b08",
   "metadata": {},
   "outputs": [],
   "source": [
    "2. Write a Python program for removing i-th character from a string?"
   ]
  },
  {
   "cell_type": "code",
   "execution_count": 5,
   "id": "cd8de63d",
   "metadata": {},
   "outputs": [
    {
     "name": "stdout",
     "output_type": "stream",
     "text": [
      "Do soe data science project\n"
     ]
    }
   ],
   "source": [
    "# Python3 program for removing i-th indexed character from a strin \n",
    "  \n",
    "def remove(string, i):\n",
    "    ## to store charcters before ith term \n",
    "    a = string[: i]\n",
    "    b = string[i + 1:]\n",
    "    return a + b\n",
    "\n",
    "if __name__ == '__main__':\n",
    "    string = \"Do some data science project\"\n",
    "    i = 5\n",
    "    print(remove(string, i))"
   ]
  },
  {
   "cell_type": "code",
   "execution_count": null,
   "id": "5a33eba1",
   "metadata": {},
   "outputs": [],
   "source": [
    "3. Write a Python program to split and join a string?"
   ]
  },
  {
   "cell_type": "code",
   "execution_count": 12,
   "id": "1d61e566",
   "metadata": {},
   "outputs": [
    {
     "name": "stdout",
     "output_type": "stream",
     "text": [
      "['Welcome', 'to', 'Data', 'Science']\n",
      "Welcome*to*Data*Science\n"
     ]
    }
   ],
   "source": [
    "# Python program to split a string and join it using different delimiter\n",
    " \n",
    "def split_string(string):\n",
    "# Split the string based on space delimiter\n",
    "    list_string = string.split(' ')\n",
    "    return list_string\n",
    " \n",
    "def join_string(list_string):\n",
    "# Join the string based on '-' delimiter\n",
    "    string = '*'.join(list_string)\n",
    "    return string\n",
    "\n",
    "if __name__ == '__main__':\n",
    "    string = 'Welcome to Data Science'\n",
    "     \n",
    "# Splitting a string\n",
    "    list_string = split_string(string)\n",
    "    print(list_string)\n",
    " \n",
    "# Join list of strings into one\n",
    "    new_string = join_string(list_string)\n",
    "    print(new_string)"
   ]
  },
  {
   "cell_type": "code",
   "execution_count": null,
   "id": "203cb8d3",
   "metadata": {},
   "outputs": [],
   "source": [
    "4. Write a Python to check if a given string is binary string or not?"
   ]
  },
  {
   "cell_type": "code",
   "execution_count": 14,
   "id": "20453f46",
   "metadata": {},
   "outputs": [
    {
     "name": "stdout",
     "output_type": "stream",
     "text": [
      "Yes\n"
     ]
    }
   ],
   "source": [
    "# Python program to check if a string is binary or not\n",
    " \n",
    "def check(string):\n",
    "# set function convert string into set of characters .\n",
    "    p = set(string)\n",
    "# declare set of '0', '1' .\n",
    "    s = {'0', '1'}\n",
    " \n",
    "    # check set p is same as set s\n",
    "    # or set p contains only '0'\n",
    "    # or set p contains only '1'\n",
    "    # or not, if any one condition is true then string is accepted otherwise not .\n",
    "    if s == p or p == {'0'} or p == {'1'}:\n",
    "        print(\"Yes\")\n",
    "    else:\n",
    "        print(\"No\")\n",
    " \n",
    "if __name__ == \"__main__\":\n",
    "    string = \"11100011010011\"\n",
    " \n",
    "  # function calling\n",
    "    check(string)"
   ]
  },
  {
   "cell_type": "code",
   "execution_count": null,
   "id": "c3caa819",
   "metadata": {},
   "outputs": [],
   "source": [
    "6. Write a Python to find all duplicate characters in string?"
   ]
  },
  {
   "cell_type": "code",
   "execution_count": 19,
   "id": "7477052b",
   "metadata": {},
   "outputs": [
    {
     "name": "stdout",
     "output_type": "stream",
     "text": [
      "s\n",
      "n\n",
      "g\n"
     ]
    }
   ],
   "source": [
    "from collections import Counter\n",
    "def duplicate_char(input):\n",
    " \n",
    "# creation dictionary using counter method which will have strings as key and their frequencies as value\n",
    "    wc = Counter(input)\n",
    " \n",
    "# Finding no. of  occurrence of a character and get the index of it.\n",
    "    for letter, count in wc.items():\n",
    "        if (count > 1):\n",
    "            print(letter)\n",
    " \n",
    " \n",
    "# Driver program\n",
    "if __name__ == \"__main__\":\n",
    "    input = 'singsong'\n",
    "    duplicate_char(input)"
   ]
  },
  {
   "cell_type": "code",
   "execution_count": null,
   "id": "c7cb96de",
   "metadata": {},
   "outputs": [],
   "source": [
    "7. Write a Python Program to check if a string contains any special character?"
   ]
  },
  {
   "cell_type": "code",
   "execution_count": 26,
   "id": "e361ddc7",
   "metadata": {},
   "outputs": [
    {
     "name": "stdout",
     "output_type": "stream",
     "text": [
      "String is not accepted.\n"
     ]
    }
   ],
   "source": [
    "# Python program to check if a string contains any special character\n",
    " \n",
    "# import required package\n",
    "import re\n",
    " \n",
    "# Function checks if the string contains any special character\n",
    "def run(string):\n",
    " \n",
    "    # Make own character set and pass this as argument in compile method\n",
    "    regex = re.compile('[@_!#$%^&*()<>?/\\|}{~:]')\n",
    "     \n",
    "    # Pass the string in search method of regex object.   \n",
    "    if(regex.search(string) == None):\n",
    "        print(\"String is accepted\")\n",
    "         \n",
    "    else:\n",
    "        print(\"String is not accepted.\")\n",
    "     \n",
    "if __name__ == '__main__' :\n",
    "    # Enter the string\n",
    "    string = \"{sing)#@$-*&^=(song}\"\n",
    "     \n",
    "    # calling run function\n",
    "    run(string)"
   ]
  },
  {
   "cell_type": "code",
   "execution_count": null,
   "id": "b730c2aa",
   "metadata": {},
   "outputs": [],
   "source": []
  }
 ],
 "metadata": {
  "kernelspec": {
   "display_name": "Python 3",
   "language": "python",
   "name": "python3"
  },
  "language_info": {
   "codemirror_mode": {
    "name": "ipython",
    "version": 3
   },
   "file_extension": ".py",
   "mimetype": "text/x-python",
   "name": "python",
   "nbconvert_exporter": "python",
   "pygments_lexer": "ipython3",
   "version": "3.10.6"
  }
 },
 "nbformat": 4,
 "nbformat_minor": 5
}
