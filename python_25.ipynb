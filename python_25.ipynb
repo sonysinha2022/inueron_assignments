{
 "cells": [
  {
   "cell_type": "code",
   "execution_count": null,
   "id": "10e8ad36",
   "metadata": {},
   "outputs": [],
   "source": [
    "1 . What is the difference between enclosing a list comprehension in square brackets and\n",
    "parentheses?\n",
    "\n",
    "#List Comprehension with square brackets produces list.\n",
    "#List Comprehension with parentheses creates generators"
   ]
  },
  {
   "cell_type": "code",
   "execution_count": 1,
   "id": "5894dfbf",
   "metadata": {},
   "outputs": [
    {
     "data": {
      "text/plain": [
       "[0, 1, 2, 3, 4, 5, 6, 7, 8, 9]"
      ]
     },
     "execution_count": 1,
     "metadata": {},
     "output_type": "execute_result"
    }
   ],
   "source": [
    "list_square = [i for i in range(10)]\n",
    "list_square"
   ]
  },
  {
   "cell_type": "code",
   "execution_count": 3,
   "id": "941b14ba",
   "metadata": {},
   "outputs": [
    {
     "data": {
      "text/plain": [
       "[0, 1, 2, 3, 4, 5, 6, 7, 8, 9]"
      ]
     },
     "execution_count": 3,
     "metadata": {},
     "output_type": "execute_result"
    }
   ],
   "source": [
    "list_paren = (i for i in range(10))\n",
    "list(list_paren)"
   ]
  },
  {
   "cell_type": "code",
   "execution_count": null,
   "id": "8cc8b8d1",
   "metadata": {},
   "outputs": [],
   "source": [
    "2. What is the relationship between generators and iterators?\n",
    "\n",
    "an iterator is an object used to iterate over iterable objects such as lists, tuples, dictionaries, and sets.\n",
    "An object is called iterable if we can get an iterator from it or loop over it. \n",
    "\n",
    "Python has a generator that allows you to create your iterator function.\n",
    "A generator is somewhat of a function that returns an iterator object with a succession of values rather than a single item. \n",
    "A yield statement, rather than a return statement, is used in a generator function. \n",
    "\n",
    "The Python iterators object is initialized using the iter() method. It uses the next() method for iteration.\n",
    "\n",
    "__iter__(): The iter() method is called for the initialization of an iterator. This returns an iterator object\n",
    "__next__(): The next method returns the next value for the iterable"
   ]
  },
  {
   "cell_type": "code",
   "execution_count": 7,
   "id": "bf49c93a",
   "metadata": {},
   "outputs": [
    {
     "name": "stdout",
     "output_type": "stream",
     "text": [
      "D\n",
      "A\n",
      "T\n",
      "A\n",
      "-\n",
      "S\n",
      "C\n",
      "I\n",
      "E\n",
      "N\n",
      "C\n",
      "E\n"
     ]
    }
   ],
   "source": [
    "## Iterator\n",
    "string = \"DATA-SCIENCE\"\n",
    "ch_iterator = iter(string)\n",
    " \n",
    "print(next(ch_iterator))\n",
    "print(next(ch_iterator))\n",
    "print(next(ch_iterator))\n",
    "print(next(ch_iterator))\n",
    "print(next(ch_iterator))\n",
    "print(next(ch_iterator))\n",
    "print(next(ch_iterator))\n",
    "print(next(ch_iterator))\n",
    "print(next(ch_iterator))\n",
    "print(next(ch_iterator))\n",
    "print(next(ch_iterator))\n",
    "print(next(ch_iterator))"
   ]
  },
  {
   "cell_type": "code",
   "execution_count": 9,
   "id": "9b48d42d",
   "metadata": {},
   "outputs": [
    {
     "name": "stdout",
     "output_type": "stream",
     "text": [
      "1\n",
      "2\n",
      "3\n",
      "3\n",
      "3\n"
     ]
    }
   ],
   "source": [
    "## Generator\n",
    "\n",
    "# When the body of a def contains yield, the function automatically becomes a generator function. \n",
    "\n",
    "# A generator function that yields 1 for first time,\n",
    "# 2 second time and 3 third time\n",
    "def generatorNum():\n",
    "    yield 1           \n",
    "    yield 2           \n",
    "    yield 3  \n",
    "for value in generatorNum():\n",
    "    print(value)"
   ]
  },
  {
   "cell_type": "code",
   "execution_count": null,
   "id": "82e351c4",
   "metadata": {},
   "outputs": [],
   "source": [
    "3.What are the signs that a function is a generator function?\n",
    "\n",
    "When the body of a def contains yield, the function automatically becomes a generator function."
   ]
  },
  {
   "cell_type": "code",
   "execution_count": null,
   "id": "6d74b025",
   "metadata": {},
   "outputs": [],
   "source": [
    "4. What is the purpose of a yield statement?\n",
    "\n",
    "The yield statement returns a generator object to the one who calls the function which contains yield, instead of simply returning a value."
   ]
  },
  {
   "cell_type": "code",
   "execution_count": null,
   "id": "071b801e",
   "metadata": {},
   "outputs": [],
   "source": [
    "5. What is the relationship between map calls and list comprehensions? Make a comparison and\n",
    "contrast between the two.\n",
    "\n",
    "map() function returns a map object(which is an iterator) of the results after applying the given function to each item of a given iterable\n",
    "\n",
    "List Comprehension is a substitute for the lambda function, map(), filter() and reduce(). It follows the form of the mathematical set-builder notation. \n",
    "It provide a concise way to create lists.\n",
    "List comprehension returns a list, whereas the map function returns an object of Iterable.\n",
    "\n",
    "List comprehension execution is faster than that of map function when the formula expression is huge and complex. \n",
    "Map function is faster than list comprehension when the formula is already defined as a function earlier."
   ]
  }
 ],
 "metadata": {
  "kernelspec": {
   "display_name": "Python 3",
   "language": "python",
   "name": "python3"
  },
  "language_info": {
   "codemirror_mode": {
    "name": "ipython",
    "version": 3
   },
   "file_extension": ".py",
   "mimetype": "text/x-python",
   "name": "python",
   "nbconvert_exporter": "python",
   "pygments_lexer": "ipython3",
   "version": "3.10.6"
  }
 },
 "nbformat": 4,
 "nbformat_minor": 5
}
