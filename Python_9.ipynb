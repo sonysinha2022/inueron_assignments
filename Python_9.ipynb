{
 "cells": [
  {
   "cell_type": "markdown",
   "id": "81c7ff01",
   "metadata": {},
   "source": [
    "1. To what does a relative path refer?\n",
    "\n",
    "A relative path describes the location of a file relative to the current (working) directory"
   ]
  },
  {
   "cell_type": "markdown",
   "id": "aa54d027",
   "metadata": {},
   "source": [
    "2. What does an absolute path start with your operating system?\n",
    "\n",
    "An absolute path describes the location from the root directory."
   ]
  },
  {
   "cell_type": "markdown",
   "id": "ea2c0f44",
   "metadata": {},
   "source": [
    "3. What do the functions os.getcwd() and os.chdir() do?\n",
    "\n",
    "getcwd() : CWD stands for Current Working Directory. This function allows you to see what your current working directory is.\n",
    "\n",
    "os.chdir() method in Python used to change the current working directory to specified path. It takes only a single argument as new directory path."
   ]
  },
  {
   "cell_type": "code",
   "execution_count": 1,
   "id": "441d1a4f",
   "metadata": {},
   "outputs": [
    {
     "name": "stdout",
     "output_type": "stream",
     "text": [
      "C:\\Users\\nawin\n"
     ]
    }
   ],
   "source": [
    "import os\n",
    "\n",
    "print(os.getcwd())"
   ]
  },
  {
   "cell_type": "markdown",
   "id": "c56ae2b3",
   "metadata": {},
   "source": [
    "4. What are the . and .. folders?\n",
    "\n",
    "The . folder is the current folder, and .. is the parent folder"
   ]
  },
  {
   "cell_type": "markdown",
   "id": "5008eb64",
   "metadata": {},
   "source": [
    "5. In C:\\bacon\\eggs\\spam.txt, which part is the dir name, and which part is the base name?\n",
    "\n",
    "C:\\bacon\\eggs is the dir name, while spam.txt is the base name.    "
   ]
  },
  {
   "cell_type": "markdown",
   "id": "fd8ba9ae",
   "metadata": {},
   "source": [
    "6. What are the three “mode” arguments that can be passed to the open() function?\n",
    "\n",
    "The string 'r' for read mode, 'w' for write mode, and 'a' for append mode"
   ]
  },
  {
   "cell_type": "markdown",
   "id": "0a4edc45",
   "metadata": {},
   "source": [
    "7. What happens if an existing file is opened in write mode?\n",
    "\n",
    "An existing file opened in write mode is erased and completely overwritten."
   ]
  },
  {
   "cell_type": "markdown",
   "id": "9793b37e",
   "metadata": {},
   "source": [
    "8. How do you tell the difference between read() and readlines()?\n",
    "\n",
    "The read() will read the whole file at once and then print out the first characters that take up as many bytes as we specify in the parenthesis \n",
    "The readlines() that will read and print out only the first characters that take up as many bytes as we specify in the parenthesis"
   ]
  },
  {
   "cell_type": "markdown",
   "id": "0f3947c1",
   "metadata": {},
   "source": [
    "9. What data structure does a shelf value resemble?\n",
    "\n",
    "Shelf value resembles a dictionary value; it has keys and values, along with keys() and values() methods that work similarly to the dictionary methods of the same names."
   ]
  }
 ],
 "metadata": {
  "kernelspec": {
   "display_name": "Python 3",
   "language": "python",
   "name": "python3"
  },
  "language_info": {
   "codemirror_mode": {
    "name": "ipython",
    "version": 3
   },
   "file_extension": ".py",
   "mimetype": "text/x-python",
   "name": "python",
   "nbconvert_exporter": "python",
   "pygments_lexer": "ipython3",
   "version": "3.9.12"
  }
 },
 "nbformat": 4,
 "nbformat_minor": 5
}
