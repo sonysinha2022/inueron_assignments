{
 "cells": [
  {
   "cell_type": "code",
   "execution_count": null,
   "id": "2b16bdb7",
   "metadata": {},
   "outputs": [],
   "source": [
    "1. What is the difference between supervised and unsupervised learning?\n",
    "   Give some examples to illustrate your point ?\n",
    "    \n",
    "Ans: The main distinction between the two approaches is the use of labeled datasets.\n",
    "     To put it simply, supervised learning uses labeled input and output data, while an unsupervised learning algorithm does not. \n",
    "    Unsupervised learning models, in contrast, work on their own to discover the inherent structure of unlabeled data.\n",
    "\n",
    "    In Supervised learning, you train the machine using data which is well “labeled.” Unsupervised learning is a machine learning technique, where you do not need to supervise the model.\n",
    "    For example, Baby can identify other dogs based on past supervised learning."
   ]
  },
  {
   "cell_type": "code",
   "execution_count": null,
   "id": "e73a38b0",
   "metadata": {},
   "outputs": [],
   "source": [
    "2. Mention a few unsupervised learning applications ?\n",
    "\n",
    "Ans: The main applications of unsupervised learning include clustering, visualization, dimensionality reduction, finding association rules, and anomaly detection."
   ]
  },
  {
   "cell_type": "code",
   "execution_count": null,
   "id": "96bfe13b",
   "metadata": {},
   "outputs": [],
   "source": [
    "3. What are the three main types of clustering methods? Briefly describe the characteristics of each ?\n",
    "\n",
    "Ans: The various types of clustering are:\n",
    "\n",
    "Connectivity-based Clustering (Hierarchical clustering): \n",
    "    Hierarchical Clustering is a method of unsupervised machine learning clustering where it begins with a pre-defined top to bottom hierarchy of clusters. It then proceeds to perform a decomposition of the data objects based on this hierarchy, hence obtaining the clusters. This method follows two approaches based on the direction of progress, i.e., whether it is the top-down or bottom-up flow of creating clusters.\n",
    "\n",
    "Centroids-based Clustering (Partitioning methods): \n",
    "    Centroid based clustering is considered as one of the most simplest clustering algorithms, yet the most effective way of creating clusters and assigning data points to it. The intuition behind centroid based clustering is that a cluster is characterized and represented by a central vector and data points that are in close proximity to these vectors are assigned to the respective clusters.\n",
    "\n",
    "Density-based Clustering (Model-based methods): \n",
    "    If one looks into the previous two methods that we discussed, one would observe that both hierarchical and centroid based algorithms are dependent on a distance (similarity/proximity) metric. The very definition of a cluster is based on this metric. Density-based clustering methods take density into consideration instead of distances. Clusters are considered as the densest region in a data space, which is separated by regions of lower object density and it is defined as a maximal-set of connected points.\n",
    "\n",
    "Distribution-based Clustering:\n",
    "    The clustering techniques as we know are based around either proximity (similarity/distance) or composition (density). There is a family of clustering algorithms that take a totally different metric into consideration – probability. Distribution-based clustering creates and groups data points based on their likely hood of belonging to the same probability distribution (Gaussian, Binomial etc.) in the data.\n",
    "\n",
    "Fuzzy Clustering:\n",
    "    The general idea about clustering revolves around assigning data points to mutually exclusive clusters, meaning, a data point always resides uniquely inside a cluster and it cannot belong to more than one cluster. Fuzzy clustering methods change this paradigm by assigning a data-point to multiple clusters with a quantified degree of belongingness metric. The data-points that are in proximity to the center of a cluster, may also belong in the cluster that is at a higher degree than points in the edge of a cluster. The possibility of which an element belongs to a given cluster is measured by membership coefficient that vary from 0 to 1."
   ]
  },
  {
   "cell_type": "code",
   "execution_count": null,
   "id": "352f2352",
   "metadata": {},
   "outputs": [],
   "source": [
    "4. Explain how the k-means algorithm determines the consistency of clustering ?\n",
    "\n",
    "Ans: Calculate the Within-Cluster-Sum of Squared Errors (WSS) for different values of k, and choose the k for which WSS becomes first starts to diminish.\n",
    "     In the plot of WSS-versus-k, this is visible as an elbow within-Cluster-Sum of Squared Errors sounds a bit complex."
   ]
  },
  {
   "cell_type": "code",
   "execution_count": null,
   "id": "09524d0c",
   "metadata": {},
   "outputs": [],
   "source": [
    "5. With a simple illustration, explain the key difference between the k-means and k-medoids algorithms ?\n",
    "\n",
    "Ans: K-means attempts to minimize the total squared error, while k-medoids minimizes the sum of dissimilarities between points labeled to be in a cluster and a point designated as the center of that cluster. In contrast to the k -means algorithm, k -medoids chooses datapoints as centers ( medoids or exemplars)."
   ]
  },
  {
   "cell_type": "code",
   "execution_count": null,
   "id": "333778fd",
   "metadata": {},
   "outputs": [],
   "source": [
    "6. What is a dendrogram, and how does it work? Explain how to do it ?\n",
    "\n",
    "Ans: A dendrogram is a diagram that shows the attribute distances between each pair of sequentially merged classes After each merging, the distances between all pairs of classes are updated. \n",
    "    The distances at which the signatures of classes are merged are used to construct a dendrogram."
   ]
  },
  {
   "cell_type": "code",
   "execution_count": null,
   "id": "a7360d25",
   "metadata": {},
   "outputs": [],
   "source": [
    "7. What exactly is SSE? What role does it play in the k-means algorithm ?\n",
    "\n",
    "Ans: SSE is which stands for Sum of Squared Errors. The regression line is the line made using the function of TSS. To get the SSE we calculate the distance for each of the data points from the regression line then square the it, then we add to the sum.\n",
    "\n",
    "     The SSE is defined as the sum of the squared Euclidean distances of each point to its closest centroid. Since this is a measure of error, the objective of k-means is to try to minimize this value. The purpose of this figure is to show that the initialization of the centroids is an important step."
   ]
  },
  {
   "cell_type": "code",
   "execution_count": null,
   "id": "08dcc9c7",
   "metadata": {},
   "outputs": [],
   "source": [
    "8. With a step-by-step algorithm, explain the k-means procedure ?\n",
    "\n",
    "Ans: k-means is one of the simplest unsupervised learning algorithms that solve the well known clustering problem.\n",
    "      The procedure follows a simple and easy way to classify a given data set through a certain number of clusters (assume k clusters) fixed apriori.\n",
    "    The main idea is to define k centers, one for each cluster.\n",
    "\n",
    "Step 1: Choose the number of clusters k.\n",
    "Step 2: Select k random points from the data as centroids.\n",
    "Step 3: Assign all the points to the closest cluster centroid.\n",
    "Step 4: Recompute the centroids of newly formed clusters.\n",
    "Step 5: Repeat steps 3 and 4."
   ]
  },
  {
   "cell_type": "code",
   "execution_count": null,
   "id": "f59debcc",
   "metadata": {},
   "outputs": [],
   "source": [
    "9. In the sense of hierarchical clustering, define the terms single link and complete link ?\n",
    "\n",
    "Ans: In single-link (or single linkage) hierarchical clustering, we merge in each step the two clusters whose two closest members have the smallest distance (or: the two clusters with the smallest minimum pairwise distance). \n",
    "     Complete-link clustering can also be described using the concept of clique."
   ]
  },
  {
   "cell_type": "code",
   "execution_count": null,
   "id": "6aeed548",
   "metadata": {},
   "outputs": [],
   "source": [
    "10. How does the apriori concept aid in the reduction of measurement overhead in a business basket analysis? \n",
    "   Give an example to demonstrate your point ?\n",
    "Ans: Apriori algorithm assumes that any subset of a frequent itemset must be frequent. \n",
    "    Its the algorithm behind Market Basket Analysis. \n",
    "    So, according to the principle of Apriori, if {Grapes, Apple, Mango} is frequent, then {Grapes,Mango} must also be frequent. "
   ]
  },
  {
   "cell_type": "code",
   "execution_count": null,
   "id": "d19e551e",
   "metadata": {},
   "outputs": [],
   "source": []
  }
 ],
 "metadata": {
  "kernelspec": {
   "display_name": "Python 3",
   "language": "python",
   "name": "python3"
  },
  "language_info": {
   "codemirror_mode": {
    "name": "ipython",
    "version": 3
   },
   "file_extension": ".py",
   "mimetype": "text/x-python",
   "name": "python",
   "nbconvert_exporter": "python",
   "pygments_lexer": "ipython3",
   "version": "3.10.6"
  }
 },
 "nbformat": 4,
 "nbformat_minor": 5
}
