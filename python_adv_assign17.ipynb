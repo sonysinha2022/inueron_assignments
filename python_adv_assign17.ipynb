{
 "cells": [
  {
   "cell_type": "code",
   "execution_count": null,
   "id": "f2664356",
   "metadata": {},
   "outputs": [],
   "source": [
    "Q1. Explain the difference between greedy and non-greedy syntax with visual terms in as few words as possible. What is the bare minimum effort required to transform a greedy pattern into a non-greedy one? What characters or characters can you introduce or change?\n",
    "\n",
    "Ans: The Main difference between Greedy and Non Greedy Match Syntax is The Greedy Match will try to match as many repetitions of the quantified pattern as possible Whereas The Non Greedy Match will try to match as few repetitions of the quantified pattern as possible"
   ]
  },
  {
   "cell_type": "code",
   "execution_count": 5,
   "id": "d14fafd5",
   "metadata": {},
   "outputs": [
    {
     "name": "stdout",
     "output_type": "stream",
     "text": [
      "['sssss', '']\n",
      "['', 's', '', 's', '', 's', '', 's', '', 's', '', 's', '']\n"
     ]
    }
   ],
   "source": [
    "import re\n",
    "print(re.findall(\"s*\", \"sssss\")) # Greedy Match Synatx\n",
    "print(re.findall(\"s*?\", \"ssssss\")) # Non Greddy Syntax"
   ]
  },
  {
   "cell_type": "code",
   "execution_count": null,
   "id": "314b08f3",
   "metadata": {},
   "outputs": [],
   "source": [
    "Q2. When exactly does greedy versus non-greedy make a difference? What if you're looking for a non-greedy match but the only one available is greedy?\n",
    "\n",
    "Ans: The Greedy Match will try to match as many repetitions of the quantified pattern as possible. The Non Greedy Match will try to match as few repetitions of the quantified pattern as possible. If only Non Greedy Match is available, we can use other filtering or pattern matching methods of regex and further identify the required pattern."
   ]
  },
  {
   "cell_type": "code",
   "execution_count": null,
   "id": "a48a7188",
   "metadata": {},
   "outputs": [],
   "source": [
    "Q3. In a simple match of a string, which looks only for one match and does not do any replacement, is the use of a nontagged group likely to make any practical difference?\n",
    "\n",
    "Ans: In this Case The Non Tagged Group will not make any diffrence in this case."
   ]
  },
  {
   "cell_type": "code",
   "execution_count": 7,
   "id": "00c52332",
   "metadata": {},
   "outputs": [
    {
     "name": "stdout",
     "output_type": "stream",
     "text": [
      "Phone number found -> 434\n",
      "Phone number found -> 434\n"
     ]
    }
   ],
   "source": [
    "import re\n",
    "phoneNumRegex = re.compile(r'\\d\\d\\d')\n",
    "num = phoneNumRegex.search('My number is 434-543-7654.')\n",
    "print(f'Phone number found -> {num.group()}') # Non Tagged group\n",
    "print(f'Phone number found -> {num.group(0)}') # Tagged Group"
   ]
  },
  {
   "cell_type": "code",
   "execution_count": null,
   "id": "318b7d45",
   "metadata": {},
   "outputs": [],
   "source": [
    "Q4. Describe a scenario in which using a nontagged category would have a significant impact on the program's outcomes ?\n",
    "\n",
    "Ans: Here in the below Code Snippet . decimal is not tagged or captured. It will useful in scenarios where the separator of value in a string is of no use and we need to capture only the values."
   ]
  },
  {
   "cell_type": "code",
   "execution_count": 10,
   "id": "ada3ea41",
   "metadata": {},
   "outputs": [
    {
     "data": {
      "text/plain": [
       "('234', '567')"
      ]
     },
     "execution_count": 10,
     "metadata": {},
     "output_type": "execute_result"
    }
   ],
   "source": [
    "import re\n",
    "text='234.567'\n",
    "pattern=r'(\\d+)(?:.)(\\d+)'\n",
    "regobj=re.compile(pattern)\n",
    "matobj=regobj.search(text)\n",
    "matobj.groups()"
   ]
  },
  {
   "cell_type": "code",
   "execution_count": null,
   "id": "180b0116",
   "metadata": {},
   "outputs": [],
   "source": [
    "Q5. Unlike a normal regex pattern, a look-ahead condition does not consume the characters it examines. Describe a situation in which this could make a difference in the results of your programme ?\n",
    "\n",
    "Ans: While counting the number of multiple lines or mutiple sentence in a string the positive look ahead makes a difference, without which we wont get the correct count of lines or sentences in a string."
   ]
  },
  {
   "cell_type": "code",
   "execution_count": null,
   "id": "7525ced3",
   "metadata": {},
   "outputs": [],
   "source": [
    "Q6. In standard expressions, what is the difference between positive look-ahead and negative look-ahead ?\n",
    "\n",
    "Ans: Positive Lookahead allows to add a condition for what follows. Negative Lookahead is similar, but it looks behind. That is, it allows to match a pattern only if there’s something before it."
   ]
  },
  {
   "cell_type": "code",
   "execution_count": null,
   "id": "606f8d65",
   "metadata": {},
   "outputs": [],
   "source": [
    "Q7. What is the benefit of referring to groups by name rather than by number in a standard expression?\n",
    "\n",
    "Ans: Referring to groups by name rather than by number in a standard expression helps to keep the code clear and easy to understand."
   ]
  },
  {
   "cell_type": "code",
   "execution_count": null,
   "id": "d686efcd",
   "metadata": {},
   "outputs": [],
   "source": [
    "Q8. Can you identify repeated items within a target string using named groups, as in \"The cow jumped over the moon\"?"
   ]
  },
  {
   "cell_type": "code",
   "execution_count": 13,
   "id": "a8a2be3a",
   "metadata": {},
   "outputs": [
    {
     "data": {
      "text/plain": [
       "['The', 'the']"
      ]
     },
     "execution_count": 13,
     "metadata": {},
     "output_type": "execute_result"
    }
   ],
   "source": [
    "import re\n",
    "text = \"The cow jumped over the moon\"\n",
    "regobj=re.compile(r'(?P<w1>The)',re.I)\n",
    "regobj.findall(text)"
   ]
  },
  {
   "cell_type": "code",
   "execution_count": null,
   "id": "bdbd61b6",
   "metadata": {},
   "outputs": [],
   "source": [
    "Q9. When parsing a string, what is at least one thing that the Scanner interface does for you that the re.findall feature does not ?\n",
    "\n",
    "Ans: re.findall() module is used to search for all occurrences that match a given pattern. In contrast, re.search() will only return the first occurrence that matches the specified pattern. re.findall() will iterate over all the lines of the file and will return all non-overlapping matches of pattern in a single step."
   ]
  },
  {
   "cell_type": "code",
   "execution_count": null,
   "id": "624b7abe",
   "metadata": {},
   "outputs": [],
   "source": [
    "Q10. Does a scanner object have to be named scanner?\n",
    "\n",
    "Ans: Yes, It may have any name."
   ]
  }
 ],
 "metadata": {
  "kernelspec": {
   "display_name": "Python 3",
   "language": "python",
   "name": "python3"
  },
  "language_info": {
   "codemirror_mode": {
    "name": "ipython",
    "version": 3
   },
   "file_extension": ".py",
   "mimetype": "text/x-python",
   "name": "python",
   "nbconvert_exporter": "python",
   "pygments_lexer": "ipython3",
   "version": "3.10.6"
  }
 },
 "nbformat": 4,
 "nbformat_minor": 5
}
