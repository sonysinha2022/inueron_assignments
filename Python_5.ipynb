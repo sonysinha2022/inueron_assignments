{
 "cells": [
  {
   "cell_type": "markdown",
   "id": "ba7c5fde",
   "metadata": {},
   "source": [
    "Ques1: What does an empty dictionary's code look like?\n",
    "Ans: Python empty dictionary means that it does not contain any key-value pair elements within curly        brackets.\n",
    "     To create an empty dictionary, we  use a dict(), which takes no arguments. \n",
    "     If no arguments are provided, an empty dictionary is created.\n",
    "     "
   ]
  },
  {
   "cell_type": "code",
   "execution_count": 1,
   "id": "871fe0a9",
   "metadata": {},
   "outputs": [
    {
     "name": "stdout",
     "output_type": "stream",
     "text": [
      "Empty dictionary: {}\n",
      "<class 'dict'>\n"
     ]
    }
   ],
   "source": [
    "myDict = {}\n",
    "\n",
    "print(\"Empty dictionary:\",myDict)\n",
    "print(type(myDict))"
   ]
  },
  {
   "cell_type": "code",
   "execution_count": 2,
   "id": "79df7413",
   "metadata": {},
   "outputs": [
    {
     "name": "stdout",
     "output_type": "stream",
     "text": [
      "print Dict: {42, 'foo'}\n"
     ]
    }
   ],
   "source": [
    "# 2. What is the value of a dictionary value with the key 'foo' and the value 42?\n",
    "dict={'foo',42}\n",
    "print (\"print Dict:\",dict)"
   ]
  },
  {
   "cell_type": "markdown",
   "id": "091351b4",
   "metadata": {},
   "source": [
    "3. What is the most significant distinction between a dictionary and a list?\n",
    "Ans:List is ordered and mutable, whereas dictionaries are unordered and mutable"
   ]
  },
  {
   "cell_type": "markdown",
   "id": "28dc30e2",
   "metadata": {},
   "source": [
    "4. What happens if you try to access spam['foo'] if spam is {'bar': 100}?\n",
    "Ans:We get a KeyError error                                    "
   ]
  },
  {
   "cell_type": "code",
   "execution_count": 3,
   "id": "48c2b074",
   "metadata": {},
   "outputs": [
    {
     "ename": "KeyError",
     "evalue": "'foo'",
     "output_type": "error",
     "traceback": [
      "\u001b[1;31m---------------------------------------------------------------------------\u001b[0m",
      "\u001b[1;31mKeyError\u001b[0m                                  Traceback (most recent call last)",
      "Input \u001b[1;32mIn [3]\u001b[0m, in \u001b[0;36m<cell line: 2>\u001b[1;34m()\u001b[0m\n\u001b[0;32m      1\u001b[0m spam \u001b[38;5;241m=\u001b[39m {\u001b[38;5;124m'\u001b[39m\u001b[38;5;124mbar\u001b[39m\u001b[38;5;124m'\u001b[39m:\u001b[38;5;241m100\u001b[39m}\n\u001b[1;32m----> 2\u001b[0m \u001b[43mspam\u001b[49m\u001b[43m[\u001b[49m\u001b[38;5;124;43m'\u001b[39;49m\u001b[38;5;124;43mfoo\u001b[39;49m\u001b[38;5;124;43m'\u001b[39;49m\u001b[43m]\u001b[49m\n",
      "\u001b[1;31mKeyError\u001b[0m: 'foo'"
     ]
    }
   ],
   "source": [
    "spam = {'bar':100}\n",
    "spam['foo']"
   ]
  },
  {
   "cell_type": "markdown",
   "id": "782aaa62",
   "metadata": {},
   "source": [
    "Ques 5. If a dictionary is stored in spam, what is the difference between the expressions 'cat' in spam and 'cat' in spam.keys()?"
   ]
  },
  {
   "cell_type": "code",
   "execution_count": 4,
   "id": "f0fff444",
   "metadata": {},
   "outputs": [
    {
     "data": {
      "text/plain": [
       "True"
      ]
     },
     "execution_count": 4,
     "metadata": {},
     "output_type": "execute_result"
    }
   ],
   "source": [
    "spam ={'cat':100}\n",
    "'cat' in spam\n",
    "\n",
    "#'cat' in spam checks whether there is a 'cat' key in the dictionary"
   ]
  },
  {
   "cell_type": "code",
   "execution_count": 5,
   "id": "b33af02e",
   "metadata": {},
   "outputs": [
    {
     "data": {
      "text/plain": [
       "False"
      ]
     },
     "execution_count": 5,
     "metadata": {},
     "output_type": "execute_result"
    }
   ],
   "source": [
    "spam ={'cat':100}\n",
    "'cat' in spam.values()\n",
    "\n",
    "#'cat' in spam.values() checks whether there is a value 'cat' for one of the keys in spam."
   ]
  },
  {
   "cell_type": "raw",
   "id": "6a4704e1",
   "metadata": {},
   "source": [
    "7. What is a shortcut for the following code?\n",
    "if 'color' not in spam:\n",
    "spam['color'] = 'black'"
   ]
  },
  {
   "cell_type": "code",
   "execution_count": 6,
   "id": "d59e46c2",
   "metadata": {},
   "outputs": [
    {
     "data": {
      "text/plain": [
       "{'cat': 100, 'color': 'black'}"
      ]
     },
     "execution_count": 6,
     "metadata": {},
     "output_type": "execute_result"
    }
   ],
   "source": [
    "spam ={'cat':100}\n",
    "spam.setdefault('color','black')\n",
    "spam"
   ]
  },
  {
   "cell_type": "code",
   "execution_count": 7,
   "id": "938aedec",
   "metadata": {},
   "outputs": [
    {
     "name": "stdout",
     "output_type": "stream",
     "text": [
      "[{'Passing_marks': 50, 'marks': 78, 'max_marks': 100, 'name': 'sona'},\n",
      " {'Passing_marks': 60, 'marks': 98, 'max_marks': 120, 'name': 'sony'}]\n"
     ]
    }
   ],
   "source": [
    "# 8. How do you \"pretty print\" dictionary values using which module and function?\n",
    "\n",
    "\n",
    "#\"Prettyprint” is defined as a process where the source code or any other item is displayed in an attractively presentable way. \n",
    "\n",
    "import pprint\n",
    "\n",
    "mydict=[{'name':'sona','marks':78, 'max_marks':100 , 'Passing_marks':50},\n",
    "       {'name':'sony','marks':98, 'max_marks':120 , 'Passing_marks':60}]\n",
    " \n",
    "# printing with pprint()\n",
    "pprint.pprint(mydict)"
   ]
  },
  {
   "cell_type": "code",
   "execution_count": null,
   "id": "e789d6a5",
   "metadata": {},
   "outputs": [],
   "source": []
  }
 ],
 "metadata": {
  "kernelspec": {
   "display_name": "Python 3",
   "language": "python",
   "name": "python3"
  },
  "language_info": {
   "codemirror_mode": {
    "name": "ipython",
    "version": 3
   },
   "file_extension": ".py",
   "mimetype": "text/x-python",
   "name": "python",
   "nbconvert_exporter": "python",
   "pygments_lexer": "ipython3",
   "version": "3.9.12"
  }
 },
 "nbformat": 4,
 "nbformat_minor": 5
}
