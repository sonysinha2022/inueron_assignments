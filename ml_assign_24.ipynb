{
 "cells": [
  {
   "cell_type": "code",
   "execution_count": null,
   "id": "43611047",
   "metadata": {},
   "outputs": [],
   "source": [
    "1. What is your definition of clustering? What are a few clustering algorithms you might think of ?\n"
   ]
  },
  {
   "cell_type": "code",
   "execution_count": null,
   "id": "1fa5c4be",
   "metadata": {},
   "outputs": [],
   "source": [
    "A clustering algorithm means we are going to give the algorithm a lot of input data with no labels and let it find any groupings in the data it can. \n",
    "Those groupings are called clusters.\n",
    "A cluster is a group of data points that are similar to each other based on their relation to surrounding data points.\n",
    "\n",
    "Density-based\n",
    "In density-based clustering, data is grouped by areas of high concentrations of data points surrounded by areas of low concentrations of data points.\n",
    "\n",
    "Distribution-based\n",
    "With a distribution-based clustering approach, all of the data points are considered parts of a cluster based on the probability that they belong to a given cluster."
   ]
  },
  {
   "cell_type": "code",
   "execution_count": null,
   "id": "1e9d3d68",
   "metadata": {},
   "outputs": [],
   "source": [
    "2. What are some of the most popular clustering algorithm applications ?"
   ]
  },
  {
   "cell_type": "code",
   "execution_count": null,
   "id": "2eecd78b",
   "metadata": {},
   "outputs": [],
   "source": [
    "1. Recommendation engines\n",
    "The recommendation system is a widely used method for providing automated personalized suggestions about products, services and information where collaborative filtering is one of the famous recommendation system and techniques. \n",
    "\n",
    "2. Market and Customer segmentation\n",
    "A process of splitting the target market into smaller and more defined categories is known as market segmentation. \n",
    "This segments customers/audiences into groups of similar characteristics (needs, location, interests or demographics) where target and personalization, under it, is an immense business. \n",
    "\n",
    "3. Biological Data Analysis, Medical Imaging Analysis and Identification of Cancer Cells"
   ]
  },
  {
   "cell_type": "code",
   "execution_count": null,
   "id": "07ab31a6",
   "metadata": {},
   "outputs": [],
   "source": [
    "3. When using K-Means, describe two strategies for selecting the appropriate number of clusters ?"
   ]
  },
  {
   "cell_type": "code",
   "execution_count": null,
   "id": "415bb02d",
   "metadata": {},
   "outputs": [],
   "source": [
    "1. Elbow Method:\n",
    "This method is based on the observation that increasing the number of clusters can help in reducing the sum of the within-cluster variance of each cluster. \n",
    "Having more clusters allows one to extract finer groups of data objects that are more similar to each other. \n",
    "For choosing the ‘right’ number of clusters, the turning point of the curve of the sum of within-cluster variances with respect to the number of clusters is used. \n",
    "The first turning point of the curve suggests the right value of ‘k’ for any k > 0.\n",
    "\n",
    "\n",
    "2. K-means clustering algorithm can be significantly improved by using a better initialization technique, and by repeating (re-starting) the algorithm. "
   ]
  },
  {
   "cell_type": "code",
   "execution_count": null,
   "id": "f6c41ef6",
   "metadata": {},
   "outputs": [],
   "source": [
    "4. What is mark propagation and how does it work? Why would you do it, and how would you do it ?"
   ]
  },
  {
   "cell_type": "code",
   "execution_count": null,
   "id": "7287af89",
   "metadata": {},
   "outputs": [],
   "source": [
    "Backpropagation (backward propagation) is an important mathematical tool for improving the accuracy of predictions in data mining and machine learning. Essentially, backpropagation is an algorithm used to calculate derivatives quickly.\n",
    "\n",
    "The backpropagation algorithm works by computing the gradient of the loss function with respect to each weight by the chain rule, computing the gradient one layer at a time, iterating backward from the last layer to avoid redundant calculations of intermediate terms in the chain rule."
   ]
  },
  {
   "cell_type": "code",
   "execution_count": null,
   "id": "89ceb96e",
   "metadata": {},
   "outputs": [],
   "source": [
    "5. Provide two examples of clustering algorithms that can handle large datasets. And two that look for high-density areas ?"
   ]
  },
  {
   "cell_type": "code",
   "execution_count": null,
   "id": "dc5c38e8",
   "metadata": {},
   "outputs": [],
   "source": [
    "Density-Based Clustering\n",
    "The density-based clustering method connects the highly-dense areas into clusters, and the arbitrarily shaped distributions are formed as long as the dense region can be connected. \n",
    "This algorithm does it by identifying different clusters in the dataset and connects the areas of high densities into clusters. The dense areas in data space are divided from each other by sparser areas.\n",
    "\n",
    "Distribution Model-Based Clustering\n",
    "In the distribution model-based clustering method, the data is divided based on the probability of how a dataset belongs to a particular distribution.\n",
    "The grouping is done by assuming some distributions commonly Gaussian Distribution."
   ]
  },
  {
   "cell_type": "code",
   "execution_count": null,
   "id": "530d140a",
   "metadata": {},
   "outputs": [],
   "source": [
    "6. Can you think of a scenario in which constructive learning will be advantageous? How can you go about putting it into action ?"
   ]
  },
  {
   "cell_type": "code",
   "execution_count": null,
   "id": "33e5c0ad",
   "metadata": {},
   "outputs": [],
   "source": [
    "In Constructive learning, the traditional classroom learning procedure is flipped. Instead of a teacher informing a child about a subject and constructing a meaning for them, in constructive learning, children construct their own meanings. \n",
    "Now, this may not be the best approach for every learning environment, but it can be tremendously helpful at home.\n",
    "\n",
    "The home environment is where children primarily develop a sense of self and is the perfect setting for children to practice taking initiative in their learning via a Constructive approach."
   ]
  },
  {
   "cell_type": "code",
   "execution_count": null,
   "id": "b38b284a",
   "metadata": {},
   "outputs": [],
   "source": [
    "7. How do you tell the difference between anomaly and novelty detection?"
   ]
  },
  {
   "cell_type": "code",
   "execution_count": null,
   "id": "148f7e07",
   "metadata": {},
   "outputs": [],
   "source": [
    "An anomaly is an observation or event that is rare or very different from known or familiar observations or events, while a novelty is a new type of observation not discovered in the learning process. \n",
    "Recognizing, detecting and explaining anomalies and novelties have come to form an area of active research in many domains, including machine learning, computer vision, natural language processing, fraud prevention, cybersecurity and medicine."
   ]
  },
  {
   "cell_type": "code",
   "execution_count": null,
   "id": "63672000",
   "metadata": {},
   "outputs": [],
   "source": [
    "8. What is a Gaussian mixture, and how does it work? What are some of the things you can do about it?"
   ]
  },
  {
   "cell_type": "code",
   "execution_count": null,
   "id": "4bd5f720",
   "metadata": {},
   "outputs": [],
   "source": [
    "A Gaussian Mixture is a function that is comprised of several Gaussians, each identified by k ∈ {1,…, K}, where K is the number of clusters of our dataset. \n",
    "Each Gaussian k in the mixture is comprised of the following parameters: \n",
    "A mean μ that defines its centre. \n",
    "A covariance Σ that defines its width."
   ]
  },
  {
   "cell_type": "code",
   "execution_count": null,
   "id": "74786d37",
   "metadata": {},
   "outputs": [],
   "source": [
    "9. When using a Gaussian mixture model, can you name two techniques for determining the correct number of clusters?"
   ]
  },
  {
   "cell_type": "code",
   "execution_count": null,
   "id": "8368d451",
   "metadata": {},
   "outputs": [],
   "source": [
    "1. Silhouette score\n",
    "This score, as clearly stated by the SKLearn developers, consider two measures:\n",
    "\n",
    "The mean distance between a sample and all other points in the same cluster.\n",
    "The mean distance between a sample and all other points in the next nearest cluster.\n",
    "\n",
    "\n",
    "2.Bayesian information criterion (BIC)\n",
    "This criterion gives us an estimation on how much is good the GMM in terms of predicting the data we actually have. \n",
    "The lower is the BIC, the better is the model to actually predict the data we have, and by extension, the true, unknown, distribution. \n",
    "In order to avoid overfitting, this technique penalizes models with big number of clusters.\n"
   ]
  }
 ],
 "metadata": {
  "kernelspec": {
   "display_name": "Python 3",
   "language": "python",
   "name": "python3"
  },
  "language_info": {
   "codemirror_mode": {
    "name": "ipython",
    "version": 3
   },
   "file_extension": ".py",
   "mimetype": "text/x-python",
   "name": "python",
   "nbconvert_exporter": "python",
   "pygments_lexer": "ipython3",
   "version": "3.10.6"
  }
 },
 "nbformat": 4,
 "nbformat_minor": 5
}
