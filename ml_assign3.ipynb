{
 "cells": [
  {
   "cell_type": "code",
   "execution_count": null,
   "id": "49bb5349",
   "metadata": {},
   "outputs": [],
   "source": [
    "1.Explain the term machine learning, and how does it work? Explain two machine learning\n",
    "applications in the business world. What are some of the ethical concerns that machine learning\n",
    "applications could raise?"
   ]
  },
  {
   "cell_type": "code",
   "execution_count": null,
   "id": "c85d0f58",
   "metadata": {},
   "outputs": [],
   "source": [
    "Machine Learning is a form of artificial intelligence (AI) that teaches computers to think in a similar way to how humans do: Learning and improving upon past experiences. It works by exploring data and identifying patterns, and involves minimal human intervention.\n",
    "\n",
    "There are various applications in Business World :\n",
    "\n",
    "Real-time chatbot agents.\n",
    "Decision support.\n",
    "Customer recommendation engines.\n",
    "Customer churn modeling.\n",
    "Dynamic pricing tactics.\n",
    "Market research and customer segmentation.\n",
    "Fraud detection.\n",
    "\n",
    "There are some of the ethical concerns that ML applications could raise : \n",
    "AI presents three major areas of ethical concern for society:\n",
    "Privacy and surveillance\n",
    "bias and discrimination\n"
   ]
  },
  {
   "cell_type": "code",
   "execution_count": null,
   "id": "cd16cc4b",
   "metadata": {},
   "outputs": [],
   "source": [
    "2. Describe the process of human learning ?\n",
    "Under the supervision of experts\n",
    "With the assistance of experts in an indirect manner\n",
    "Self-education\n",
    "Ans:\n",
    "The processes of Human learning are described below:\n",
    "\n",
    "Under the supervision of experts: \n",
    "Human-guided machine learning is a process whereby subject matter experts accelerate the learning process by teaching the technology in real-time. \n",
    "For example, if the machine learning model comes across a piece of data it is uncertain about, a human can be asked to weigh in and give feedback. \n",
    "The model then learns from this input, and uses it to make a more accurate prediction the next time. \n",
    "Human-guided machine learning works from the bottom up by first using algorithms to conduct the heavy lifting of identifying relationships within the data, and engaging humans when necessary for training or validation Concept Learning.\n",
    "\n",
    "With the assistance of experts in an indirect manner: \n",
    "The process of an algorithm learning from the training dataset can be thought of as a teacher supervising the learning process. \n",
    "We know the correct answers, the algorithm iteratively makes predictions on the training data and is corrected by the teacher. \n",
    "Learning stops when the algorithm achieves an acceptable level of performance Operant Conditioning.\n",
    "\n",
    "Self education: \n",
    "Ability to recognize patterns, learn from data, and become more intelligent over time (can be AI or programmatically based).\n",
    "Machine Learning: AI systems with ability to automatically learn and improve from experience without being explicitly programmed via training Hebbian Learning."
   ]
  },
  {
   "cell_type": "code",
   "execution_count": null,
   "id": "fcc5f400",
   "metadata": {},
   "outputs": [],
   "source": [
    "3. Provide a few examples of various types of machine learning ?\n",
    "Ans: Examples of Various types of Machine Learning techniques are:\n",
    "\n",
    "Example of Supervised Learning is text classification problems. \n",
    "The goal is to predict the class label of a given piece of text.\n",
    "One particularly popular topic in text classification is to predict the sentiment of a piece of text, like a tweet or a product review,Image segmentation, Medical Diagnosis\n",
    "\n",
    "Example of Unsupervised Learning  \n",
    "Fraud detection, Malware detection, Anomaly detection, Clustering Analysis, Identification of human errors during data entry Conducting accurate basket analysis, etc.\n",
    "\n",
    "Example of Reinforcement Learning \n",
    "Applications in self-driving cars, Industry automation : learning-based robots are used to perform various tasks."
   ]
  },
  {
   "cell_type": "code",
   "execution_count": null,
   "id": "77a128b5",
   "metadata": {},
   "outputs": [],
   "source": [
    "4. Examine the various forms of machine learning ?\n",
    "Ans: These are three types of Machine Learning Techniques:\n",
    "\n",
    "Supervised Learning\n",
    "Unsupervised Learning\n",
    "Reinforcement Learning"
   ]
  },
  {
   "cell_type": "code",
   "execution_count": null,
   "id": "0133fff7",
   "metadata": {},
   "outputs": [],
   "source": [
    "5. Can you explain what a well-posed learning problem is?\n",
    "Explain the main characteristics that must be present to identify a learning problem properly ?\n",
    "\n",
    "Ans: Well Posed Learning Problem \n",
    "     A computer program is said to learn from experience E in context to some task T and some performance measure P, if its performance on T, as was measured by P, upgrades with experience E.Any problem can be segregated as well-posed learning problem if it has three traits – Task, Performance and Experience."
   ]
  },
  {
   "cell_type": "code",
   "execution_count": null,
   "id": "26522d5d",
   "metadata": {},
   "outputs": [],
   "source": [
    "6. Is machine learning capable of solving all problems? Give a detailed explanation of your answer ?\n",
    "\n",
    "Ans: Machine Learning probably can run into all problems for solving but lays down with some concerns which are:\n",
    "\n",
    "Ethics: The idea of trusting data and algorithms more than our own judgment has its pros and cons.Obviously, we benefit from these algorithms, otherwise, we wouldn’t be using them in the first place. \n",
    "        These algorithms allow us to automate processes by making informed judgments using available data. Sometimes, however, this means replacing someone’s job with an algorithm, which comes with ethical ramifications.\n",
    "\n",
    "Deterministic Problem: Machine learning is stochastic, not deterministic. A neural network does not understand Newton’s second law, or that density cannot be negative — there are no physical constraints.\n",
    "\n",
    "Lack of Data: Many machine learning algorithms require large amounts of data before they begin to give useful results."
   ]
  },
  {
   "cell_type": "code",
   "execution_count": null,
   "id": "686b8473",
   "metadata": {},
   "outputs": [],
   "source": [
    "7. What are the various methods and technologies for solving machine learning problems? \n",
    "   Any two of them should be defined in detail ?\n",
    "Ans: The Various Technologies Used in Machine Learning Problems are: Scikit Learn, Pytorch, Tensorflow, Keras, Python.\n",
    "\n",
    "Scikit Learn: Scikit-learn (Sklearn) is the most useful and robust library for machine learning in Python. \n",
    "              It provides a selection of efficient tools for machine learning and statistical modeling including classification, Regression, clustering and dimensionality reduction via a consistence interface in Python.\n",
    "        \n",
    "Keras is a high-level, deep learning API developed by Google for implementing neural networks. \n",
    "It is written in Python and is used to make the implementation of neural networks easy. \n",
    "It also supports multiple backend neural network computation.\n"
   ]
  },
  {
   "cell_type": "code",
   "execution_count": null,
   "id": "b87160b1",
   "metadata": {},
   "outputs": [],
   "source": [
    "8. Can you explain the various forms of supervised learning? \n",
    "   Explain each one with an example application ?\n",
    "Ans The various forms of supervised learning are explained in detail below:\n",
    "\n",
    "Regression: In regression, a single output value is produced using training data.\n",
    "            For example, regression can help predict the price of a house based on its locality, size, etc.\n",
    "        \n",
    "Classification: It involves grouping the data into classes.\n",
    "                for disease prediction, we can use classification to determine whether or not a person would be diseased or not.\n",
    "        \n",
    "Naive Bayesian Model: The Bayesian model of classification is used for large finite datasets. \n",
    "                      It is a method of assigning class labels using a direct acyclic graph.\n",
    "        \n",
    "Decision Trees: A decision tree is a flowchart-like model that contains conditional control statements, comprising decisions and their probable consequences. \n",
    "                The output relates to the labelling of unforeseen data."
   ]
  },
  {
   "cell_type": "code",
   "execution_count": null,
   "id": "89b9fa7f",
   "metadata": {},
   "outputs": [],
   "source": [
    "9. What is the difference between supervised and unsupervised learning? With a sample application in each region, explain the differences ?\n",
    "Ans: Supervised earning algorithms are trained using labeled data. \n",
    "    Unsupervised learning algorithms are trained using unlabeled data.\n",
    "    In unsupervised learning, only input data is provided to the model.\n",
    "Examples:\n",
    "Supervised Learning : Classification and Regression.\n",
    "Unsuperised Learning : Clustering."
   ]
  },
  {
   "cell_type": "code",
   "execution_count": null,
   "id": "8d5beaf6",
   "metadata": {},
   "outputs": [],
   "source": [
    "10. Describe the machine learning process in depth ?\n",
    "Make brief notes on any two of the following:\n",
    "MATLAB is one of the most widely used programming languages.\n",
    "Deep learning applications in healthcare\n",
    "Study of the market basket\n",
    "Linear regression (simple)"
   ]
  },
  {
   "cell_type": "code",
   "execution_count": null,
   "id": "7bd7d469",
   "metadata": {},
   "outputs": [],
   "source": [
    "MATLAB programming language enables users to take ideas from research to production by deploying them in enterprise applications and embedded devices and integrating model-based design. \n",
    "The language is designed to let programmers think and work the way they want, making it accessible and usable by both beginners and experts alike. \n",
    "Millions of engineers, scientists, and students around the world use his MATLAB for a wide variety of industrial and academic applications"
   ]
  },
  {
   "cell_type": "code",
   "execution_count": null,
   "id": "c2312671",
   "metadata": {},
   "outputs": [],
   "source": [
    "Deep learning in healthcare has a huge impact and it has enabled the sector to improve patient monitoring and diagnostics\n",
    "Drug Discovery\n",
    "Medical imaging and diagnostics\n",
    "Improved health and Patient monitoring \n",
    "Health Insurance and Fraud Detection."
   ]
  },
  {
   "cell_type": "code",
   "execution_count": null,
   "id": "28dabb77",
   "metadata": {},
   "outputs": [],
   "source": [
    "A market basket is a selected group of products or assets designed to track the general performance of a specific market segment. \n",
    "\n",
    "Market basket economics focuses on the Consumer Price Index (CPI), which tracks various consumer goods and uses their price levels to provide an estimate of inflation. However, for investors, a market basket relates to financial securities and is the principle idea behind index funds.\n",
    "\n",
    "\"baskets\" can also be found in securities markets, where program traders may enter into a series of positions in several stocks or currencies at the same time."
   ]
  },
  {
   "cell_type": "code",
   "execution_count": null,
   "id": "640f2957",
   "metadata": {},
   "outputs": [],
   "source": [
    "Linear Regression models describe the relationship between variables by fitting a line to the observed data. \n",
    "Linear regression models use a straight line, while logistic and nonlinear regression models use a curved line.\n",
    "Regression allows you to estimate how a dependent variable changes as the independent variable(s) change"
   ]
  },
  {
   "cell_type": "code",
   "execution_count": null,
   "id": "c8afffd0",
   "metadata": {},
   "outputs": [],
   "source": [
    "11. Make a comparison between:-\n",
    "Generalization and abstraction\n",
    "Learning that is guided and unsupervised\n",
    "Regression and classification"
   ]
  },
  {
   "cell_type": "code",
   "execution_count": null,
   "id": "60335f31",
   "metadata": {},
   "outputs": [],
   "source": [
    "Generalization and abstraction: \n",
    "Abstraction is the process of removing details of objects. \n",
    "Generalization  is the formulation of general concepts from specific instances by abstracting common properties. A concrete object can be looked at as a “subset” of a more generalized object."
   ]
  },
  {
   "cell_type": "code",
   "execution_count": null,
   "id": "adf743ea",
   "metadata": {},
   "outputs": [],
   "source": [
    "Learning that is guided and Unsupervised: \n",
    "Supervised learning is the method that trains machines to use data that is well classified and labeled. \n",
    "Unsupervised learning, on the other hand, is the method that trains machines to use data that is neither classified nor labeled."
   ]
  },
  {
   "cell_type": "code",
   "execution_count": null,
   "id": "f972838e",
   "metadata": {},
   "outputs": [],
   "source": [
    "Classification Models  \n",
    "Classification models are used for problems where the output variable can be categorized, such as Yes or No, or Pass or Fail. Classification Models are used to predict the category of the data. Real-life examples include spam detection, sentiment analysis, scorecard prediction of exams, etc.\n",
    "\n",
    "Regression Models\n",
    "Regression models are used for problems where the output variable is a real value such as a unique number, dollars, salary, weight or pressure, for example. It is most often used to predict numerical values based on previous data observations. Some of the more familiar regression algorithms include linear regression, logistic regression, polynomial regression, and ridge regression."
   ]
  },
  {
   "cell_type": "code",
   "execution_count": null,
   "id": "0f038bdd",
   "metadata": {},
   "outputs": [],
   "source": []
  }
 ],
 "metadata": {
  "kernelspec": {
   "display_name": "Python 3",
   "language": "python",
   "name": "python3"
  },
  "language_info": {
   "codemirror_mode": {
    "name": "ipython",
    "version": 3
   },
   "file_extension": ".py",
   "mimetype": "text/x-python",
   "name": "python",
   "nbconvert_exporter": "python",
   "pygments_lexer": "ipython3",
   "version": "3.10.6"
  }
 },
 "nbformat": 4,
 "nbformat_minor": 5
}
