{
 "cells": [
  {
   "cell_type": "markdown",
   "id": "fd57f4f0",
   "metadata": {},
   "source": [
    "#Assignment no 4\n",
    "\n",
    "#Python Programming"
   ]
  },
  {
   "cell_type": "markdown",
   "id": "40abaa84",
   "metadata": {},
   "source": [
    "1. What exactly is []?\n",
    "Ans: The empty list value, which is a list value that contains no items."
   ]
  },
  {
   "cell_type": "markdown",
   "id": "0f9331b0",
   "metadata": {},
   "source": [
    "2. In a list of values stored in a variable called spam, how would you assign the value 'hello' as the\n",
    "third value? (Assume [2, 4, 6, 8, 10] are in spam.)\n",
    "Ans:  spam[2] = 'hello'"
   ]
  },
  {
   "cell_type": "code",
   "execution_count": 1,
   "id": "9aec786a",
   "metadata": {},
   "outputs": [
    {
     "data": {
      "text/plain": [
       "[2, 4, 'hello', 8, 10]"
      ]
     },
     "execution_count": 1,
     "metadata": {},
     "output_type": "execute_result"
    }
   ],
   "source": [
    "spam=[2, 4, 6, 8, 10]\n",
    "spam[2]='hello'\n",
    "spam"
   ]
  },
  {
   "cell_type": "markdown",
   "id": "f06ba5ed",
   "metadata": {},
   "source": [
    "3. What is the value of spam[int(int('3' * 2) / 11)]?\n",
    "Ans: '3'*2 = 33 #As '3'is string, \n",
    "      33/11= 3"
   ]
  },
  {
   "cell_type": "code",
   "execution_count": 2,
   "id": "63c785b2",
   "metadata": {},
   "outputs": [
    {
     "data": {
      "text/plain": [
       "10"
      ]
     },
     "execution_count": 2,
     "metadata": {},
     "output_type": "execute_result"
    }
   ],
   "source": [
    "# 4. What is the value of spam[-1]?\n",
    "spam[-1]"
   ]
  },
  {
   "cell_type": "code",
   "execution_count": 3,
   "id": "655bb953",
   "metadata": {},
   "outputs": [
    {
     "data": {
      "text/plain": [
       "[2, 4]"
      ]
     },
     "execution_count": 3,
     "metadata": {},
     "output_type": "execute_result"
    }
   ],
   "source": [
    "# 5. What is the value of spam[:2]?\n",
    "spam[:2]"
   ]
  },
  {
   "cell_type": "code",
   "execution_count": 4,
   "id": "78bb615f",
   "metadata": {},
   "outputs": [],
   "source": [
    "bacon = [3.14, 'cat', 11, 'cat', True]"
   ]
  },
  {
   "cell_type": "code",
   "execution_count": 5,
   "id": "f5b5dabd",
   "metadata": {},
   "outputs": [
    {
     "name": "stdout",
     "output_type": "stream",
     "text": [
      "1\n"
     ]
    }
   ],
   "source": [
    "# 6. What is the value of bacon.index('cat')?\n",
    "index = bacon.index('cat')\n",
    "print(index)"
   ]
  },
  {
   "cell_type": "code",
   "execution_count": 6,
   "id": "6452662b",
   "metadata": {},
   "outputs": [
    {
     "name": "stdout",
     "output_type": "stream",
     "text": [
      "[3.14, 'cat', 11, 'cat', True, 99]\n"
     ]
    }
   ],
   "source": [
    "# 7. How does bacon.append(99) change the look of the list value in bacon?\n",
    "bacon.append(99)\n",
    "print(bacon)"
   ]
  },
  {
   "cell_type": "code",
   "execution_count": 7,
   "id": "18951f4e",
   "metadata": {},
   "outputs": [
    {
     "name": "stdout",
     "output_type": "stream",
     "text": [
      "[3.14, 11, 'cat', True, 99]\n"
     ]
    }
   ],
   "source": [
    "# 8. How does bacon.remove('cat') change the look of the list in bacon?\n",
    "bacon.remove('cat')\n",
    "print(bacon)"
   ]
  },
  {
   "cell_type": "markdown",
   "id": "ce990b57",
   "metadata": {},
   "source": [
    " 9. What are the list concatenation and list replication operators?\n",
    "Ans: The operator for list concatenation is +, while the operator for replication is *. \n",
    "    "
   ]
  },
  {
   "cell_type": "markdown",
   "id": "fa07a9c4",
   "metadata": {},
   "source": [
    "10. What is difference between the list methods append() and insert()?\n",
    "Ans: While append() will add values only to the end of a list, \n",
    "     insert() can add them anywhere in the list."
   ]
  },
  {
   "cell_type": "markdown",
   "id": "aa712b17",
   "metadata": {},
   "source": [
    "11. What are the two methods for removing items from a list?\n",
    "Ans: The del statement and the remove() list method are two ways to remove values from a list"
   ]
  },
  {
   "cell_type": "markdown",
   "id": "f2624f4a",
   "metadata": {},
   "source": [
    "12. Describe how list values and string values are identical.\n",
    "Ans:  Both lists and strings values are identical as they can be passed to len(), have indexes and slices, can be used in for loops, be concatenated or replicated, and be used with the in and not in operators."
   ]
  },
  {
   "cell_type": "markdown",
   "id": "b28e28c1",
   "metadata": {},
   "source": [
    "13. What is the difference between tuples and lists?\n",
    "Ans: Lists are mutable; they can have values added, removed, or changed.lists use the square brackets, []\n",
    "     Tuples are immutable; they cannot be changed at all. Tuples are written using parentheses ()"
   ]
  },
  {
   "cell_type": "code",
   "execution_count": 9,
   "id": "31c4c519",
   "metadata": {},
   "outputs": [
    {
     "name": "stdout",
     "output_type": "stream",
     "text": [
      "42\n"
     ]
    }
   ],
   "source": [
    "# 14. How do you type a tuple value that only contains the integer 42?\n",
    "t=(42,)\n",
    "print(t)"
   ]
  },
  {
   "cell_type": "markdown",
   "id": "409547b0",
   "metadata": {},
   "source": [
    "15. How do you get a list value's tuple form? How do you get a tuple value's list form?\n",
    "Ans: By using tuple() and list() functions, respectively"
   ]
  },
  {
   "cell_type": "code",
   "execution_count": 10,
   "id": "6edc79a5",
   "metadata": {},
   "outputs": [
    {
     "name": "stdout",
     "output_type": "stream",
     "text": [
      "('red', 90, True)\n",
      "<class 'tuple'>\n"
     ]
    }
   ],
   "source": [
    "# convert list to tuple\n",
    "list =['red',90,True]\n",
    "tuple1 = tuple(list)\n",
    "\n",
    "print(tuple1)\n",
    "print(type(tuple1))"
   ]
  },
  {
   "cell_type": "markdown",
   "id": "9da042d8",
   "metadata": {},
   "source": [
    "16. Variables that 'contain' list values are not necessarily lists themselves. Instead, what do they\n",
    "contain?\n",
    "Ans: They contain references to list values."
   ]
  },
  {
   "cell_type": "markdown",
   "id": "18d259d7",
   "metadata": {},
   "source": [
    "17. How do you distinguish between copy.copy() and copy.deepcopy()?\n",
    "Ans: The copy.copy() function will do a shallow copy of a list\n",
    "     The copy.deepcopy() function will do a deep copy of a list. \n",
    "        Only copy.deepcopy() will duplicate any lists inside the list."
   ]
  }
 ],
 "metadata": {
  "kernelspec": {
   "display_name": "Python 3",
   "language": "python",
   "name": "python3"
  },
  "language_info": {
   "codemirror_mode": {
    "name": "ipython",
    "version": 3
   },
   "file_extension": ".py",
   "mimetype": "text/x-python",
   "name": "python",
   "nbconvert_exporter": "python",
   "pygments_lexer": "ipython3",
   "version": "3.9.12"
  }
 },
 "nbformat": 4,
 "nbformat_minor": 5
}
