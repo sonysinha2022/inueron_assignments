{
 "cells": [
  {
   "cell_type": "code",
   "execution_count": null,
   "metadata": {},
   "outputs": [],
   "source": [
    "1. What are the key tasks involved in getting ready to work with machine learning modeling?"
   ]
  },
  {
   "cell_type": "code",
   "execution_count": null,
   "metadata": {},
   "outputs": [],
   "source": [
    "The Key Tasks involved in getting ready to work with Machine learning Modelling are:\n",
    "\n",
    "Data collection: Defining the problem and assembling a dataset.\n",
    "Data preparation: Preparing your data.\n",
    "Choosing a Model\n",
    "Training the Model: Developing a model that does better than a baseline.\n",
    "Evaluating the Model: Choosing a measure of success. Deciding on an evaluation protocol.\n",
    "Parameter tuning: Scaling up: developing a model that overfits.Regularizing your model and tuning your parameters.\n",
    "Prediction or Inference."
   ]
  },
  {
   "cell_type": "code",
   "execution_count": null,
   "metadata": {},
   "outputs": [],
   "source": [
    "2. What are the different forms of data used in machine learning ? \n",
    "Give a specific example for each of them ?"
   ]
  },
  {
   "cell_type": "code",
   "execution_count": null,
   "metadata": {},
   "outputs": [],
   "source": [
    "Different Forms of Data \n",
    "\n",
    "Numeric Data \n",
    "If a feature represents a characteristic measured in numbers , it is called a numeric feature.\n",
    "\n",
    "Categorical Data : A categorical feature is an attribute that can take on one of the limited , and usually fixed number of possible values on the basis of some qualitative property .\n",
    "                    A categorical feature is also called a nominal feature.\n",
    "Ordinal Data : This denotes a nominal variable with categories falling in an ordered list . \n",
    "                Examples include clothing sizes such as small, medium , and large , or a measurement of customer satisfaction on a scale from “not at all happy” to “very happy”."
   ]
  },
  {
   "cell_type": "code",
   "execution_count": null,
   "metadata": {},
   "outputs": [],
   "source": [
    "3. Distinguish between :\n",
    "Numeric vs. categorical attributes\n",
    "Feature selection vs. dimensionality reduction\n",
    "\n",
    "\n",
    "\n",
    "Numeric vs. categorical attributes:\n",
    "Numerical data are values obtained for quantitative variable, and carries a sense of magnitude related to the context of the variable (hence, they are always numbers or symbols carrying a numerical value).\n",
    "Categorical data are values obtained for a qualitative variable. categorical data numbers do not carry a sense of magnitude.\n",
    "\n",
    "Numerical data always belong to either ordinal, ratio, or interval type, whereas categorical data belong to nominal type. \n",
    "               Methods used to analyse quantitative data are different from the methods used for categorical data, even if the principles are the same at least the application has significant differences.\n",
    "Numerical data are analysed using statistical methods in descriptive statistics, regression, time series and many more.\n",
    "\n",
    "categorical data usually descriptive methods and graphical methods are employed. Some non-parametric tests are also used.\n",
    "\n",
    "Feature selection vs. dimensionality reduction\n",
    "Feature selection you just select a subset of the original feature set, without any manipulation of the data on the other hand.\n",
    "Dimensionality reduction is typically choosing a new representation within which you can describe most but not all of the variance within your data, thereby retaining the relevant information, while reducing theamount of information necessary to represent it."
   ]
  },
  {
   "cell_type": "code",
   "execution_count": null,
   "metadata": {},
   "outputs": [],
   "source": [
    "4. Make quick notes on any two of the following ?\n",
    "The histogram\n",
    "Use a scatter plot\n",
    "PCA (Personal Computer Aid)\n",
    "\n",
    "\n",
    "The histogram\n",
    "A Histogram is a graphical representation that organizes a group of data points into user-specified ranges. Similar in appearance to a bar graph, the histogram condenses a data series into an easily interpreted visual by taking many data points and grouping them into logical ranges or bins.\n",
    "\n",
    "Use a scatter plot\n",
    "scatter plot (scatter chart, scatter graph) uses dots to represent values for two different numeric variables. The position of each dot on the horizontal and vertical axis indicates values for an individual data point. Scatter plots are used to observe relationships between variables.\n"
   ]
  },
  {
   "cell_type": "code",
   "execution_count": null,
   "metadata": {},
   "outputs": [],
   "source": [
    "5. Why is it necessary to investigate data? Is there a discrepancy in how qualitative and quantitative\n",
    "data are explored?"
   ]
  },
  {
   "cell_type": "code",
   "execution_count": null,
   "metadata": {},
   "outputs": [],
   "source": [
    "Data is investigated to explore its type, patterns, values and analysis is done before defining a predictive tasks\n",
    "Qualitative data has Complexity, contextual, inductive logic, discovery, exploration\n",
    "Quantitative data has  random assignment, independent/dependent variable, causal/correlational, validity, deductive logic"
   ]
  },
  {
   "cell_type": "code",
   "execution_count": null,
   "metadata": {},
   "outputs": [],
   "source": [
    "6. What are the various histogram shapes? What exactly are ‘bins'?\n",
    "\n",
    "The different types of a Histogram are:\n",
    "\n",
    "Uniform Histogram\n",
    "Symmetric Histogram\n",
    "Bimodal Histogram\n",
    "Probability Histogram.\n",
    "\n",
    "All the data in a probability distribution represented visually by a histogram is filled into the corresponding bins. \n",
    "The height of each bin is a measurement of the frequency with which data appears inside the range of that bin in the distribution."
   ]
  },
  {
   "cell_type": "code",
   "execution_count": null,
   "metadata": {},
   "outputs": [],
   "source": [
    "7. How do we deal with data outliers?"
   ]
  },
  {
   "cell_type": "code",
   "execution_count": null,
   "metadata": {},
   "outputs": [],
   "source": [
    "We can use Z-Score or any of below methods to deal with data outliers:\n",
    "\n",
    "Univariate Method: This method looks for data points with extreme values on one variable.\n",
    "\n",
    "Multivariate Method: Here, we look for unusual combinations of all the variables.\n",
    "\n",
    "Minkowski Error: This method reduces the contribution of potential outliers in the training process.\n",
    "\n",
    "Z-Score: This can be done with just one line code as we have already calculated the Z-score.\n",
    "boston_df_o = boston_df_o[(z < 3).all(axis=1)]\n",
    "\n",
    "IQR Score: Calculate IQR score to filter out the outliers by keeping only valid values.\n",
    "boston_df_out = boston_df_o1[~((boston_df_o1 < (Q1 - 1.5 * IQR)) |(boston_df_o1 > (Q3 + 1.5 *IQR))).any(axis=1)]\n",
    "boston_df_out.shape\n",
    "\n",
    "Quantile function: Use quantile() to remove amount of data."
   ]
  },
  {
   "cell_type": "code",
   "execution_count": null,
   "metadata": {},
   "outputs": [],
   "source": [
    "8. What are the various central inclination measures? Why does mean vary too much from median in\n",
    "certain data sets?"
   ]
  },
  {
   "cell_type": "code",
   "execution_count": null,
   "metadata": {},
   "outputs": [],
   "source": [
    "Mean, Median and Mode are Central Inclination Measures. \n",
    "Mean varies more than Median due to presence of outliers, as mean is averaging all points \n",
    "median in like finding a middle number.\n",
    "mode is the occurence of a element"
   ]
  },
  {
   "cell_type": "code",
   "execution_count": null,
   "metadata": {},
   "outputs": [],
   "source": [
    "9. Describe how a scatter plot can be used to investigate bivariate relationships. Is it possible to find\n",
    "outliers using a scatter plot?"
   ]
  },
  {
   "cell_type": "code",
   "execution_count": null,
   "metadata": {},
   "outputs": [],
   "source": [
    " A Scatter Plot (aka scatter chart, scatter graph) uses dots to represent values for two different numeric variables. The position of each dot on the horizontal and vertical axis indicates values for an individual data point. So this visualization gives us the idea of bivariate relationship.\n",
    "\n",
    "Scatter plot can also help finding outliers as outliers can be visualized at farther distance than regular data."
   ]
  },
  {
   "cell_type": "code",
   "execution_count": null,
   "metadata": {},
   "outputs": [],
   "source": [
    "10. Describe how cross-tabs can be used to figure out how two variables are related."
   ]
  },
  {
   "cell_type": "code",
   "execution_count": null,
   "metadata": {},
   "outputs": [],
   "source": [
    "Cross tabulation is a method to quantitatively analyze the relationship between multiple variables.\n",
    "Also known as contingency tables or cross tabs, cross tabulation groups variables to understand the correlation between different variables. \n",
    "It also shows how correlations change from one variable grouping to another."
   ]
  }
 ],
 "metadata": {
  "kernelspec": {
   "display_name": "Python 3",
   "language": "python",
   "name": "python3"
  },
  "language_info": {
   "codemirror_mode": {
    "name": "ipython",
    "version": 3
   },
   "file_extension": ".py",
   "mimetype": "text/x-python",
   "name": "python",
   "nbconvert_exporter": "python",
   "pygments_lexer": "ipython3",
   "version": "3.10.6"
  }
 },
 "nbformat": 4,
 "nbformat_minor": 4
}
