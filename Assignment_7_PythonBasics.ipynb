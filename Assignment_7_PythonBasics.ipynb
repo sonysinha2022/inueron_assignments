{
 "cells": [
  {
   "cell_type": "code",
   "execution_count": 1,
   "id": "6214c726",
   "metadata": {},
   "outputs": [
    {
     "data": {
      "text/plain": [
       "re.compile(r'intelligence', re.UNICODE)"
      ]
     },
     "execution_count": 1,
     "metadata": {},
     "output_type": "execute_result"
    }
   ],
   "source": [
    "# 1. What is the name of the feature responsible for generating Regex objects?\n",
    "\n",
    "import re\n",
    "re.compile(\"intelligence\")\n",
    "\n",
    "#The re.compile() function returns Regex objects."
   ]
  },
  {
   "cell_type": "raw",
   "id": "412f65bf",
   "metadata": {},
   "source": [
    "2. Why do raw strings often appear in Regex objects?\n",
    "\n",
    "Raw strings are useful when a string needs to contain a backslash for a regular expression we don't want it to be treated as an escape character."
   ]
  },
  {
   "cell_type": "raw",
   "id": "7d25c55b",
   "metadata": {},
   "source": [
    "3. What is the return value of the search() method?\n",
    "\n",
    "The search() method returns Match objects and returns the position of the match\n",
    "The search value can be string or a regular expression. This method returns -1 if no match is found"
   ]
  },
  {
   "cell_type": "code",
   "execution_count": 2,
   "id": "cf21dda3",
   "metadata": {},
   "outputs": [
    {
     "name": "stdout",
     "output_type": "stream",
     "text": [
      "Phone number is: 345-444-4542\n"
     ]
    }
   ],
   "source": [
    "# 4. From a Match item, how do you get the actual strings that match the pattern?\n",
    "\n",
    "# A Regex object’s search() method searches the string it is passed for any matches to the regex.\n",
    "# Match objects have a group() method that will return the actual matched text from the searched string.\n",
    "\n",
    "# Python program to illustrate\n",
    "# Matching regex objects\n",
    "\n",
    "phoneNumRegex = re.compile(r'\\d\\d\\d-\\d\\d\\d-\\d\\d\\d\\d')\n",
    "mo = phoneNumRegex.search('My number is 345-444-4542.')\n",
    "print('Phone number is: ' + mo.group())\n",
    "\n",
    "# Calling matching Object.group() will return the string."
   ]
  },
  {
   "cell_type": "code",
   "execution_count": 3,
   "id": "cb57900f",
   "metadata": {},
   "outputs": [
    {
     "data": {
      "text/plain": [
       "'345-444-4542'"
      ]
     },
     "execution_count": 3,
     "metadata": {},
     "output_type": "execute_result"
    }
   ],
   "source": [
    "#5. In the regex which created from the r'(\\d\\d\\d)-(\\d\\d\\d-\\d\\d\\d\\d)', what does group zero cover?\n",
    "# Group 2? Group 1?\n",
    "\n",
    "phoneNumRegex = re.compile(r'(\\d\\d\\d)-(\\d\\d\\d-\\d\\d\\d\\d)')\n",
    "mo = phoneNumRegex.search('My number is 345-444-4542.')\n",
    "mo.group(0)"
   ]
  },
  {
   "cell_type": "code",
   "execution_count": 4,
   "id": "46ae6162",
   "metadata": {},
   "outputs": [
    {
     "data": {
      "text/plain": [
       "'345'"
      ]
     },
     "execution_count": 4,
     "metadata": {},
     "output_type": "execute_result"
    }
   ],
   "source": [
    "mo.group(1)"
   ]
  },
  {
   "cell_type": "code",
   "execution_count": 5,
   "id": "108695ff",
   "metadata": {},
   "outputs": [
    {
     "data": {
      "text/plain": [
       "'444-4542'"
      ]
     },
     "execution_count": 5,
     "metadata": {},
     "output_type": "execute_result"
    }
   ],
   "source": [
    "mo.group(2)"
   ]
  },
  {
   "cell_type": "raw",
   "id": "62101b2e",
   "metadata": {},
   "source": [
    "6. In standard expression syntax, parentheses and intervals have distinct meanings. How can you tell\n",
    "a regex that you want it to fit real parentheses and periods?\n",
    "\n",
    "Periods and parentheses can be escaped with a backslash: \\., \\(, and \\)."
   ]
  },
  {
   "cell_type": "raw",
   "id": "9c5a7c54",
   "metadata": {},
   "source": [
    "7. The findall() method returns a string list or a list of string tuples. What causes it to return one of\n",
    "the two options?\n",
    "\n",
    "If the regex has no groups, a list of strings is returned. \n",
    "If the regex has groups, a list of tuples of strings is returned."
   ]
  },
  {
   "cell_type": "raw",
   "id": "a74b8c75",
   "metadata": {},
   "source": [
    "8. In standard expressions, what does the | character mean?\n",
    "\n",
    "The | character signifies matching “either, or” between two groups\n",
    "The | character is called a pipe. we can use it anywhere you want to match one of many expressions.\n",
    "\n",
    "For example, the regular expression r'actor|sportsman' will match either 'actor' or 'sportsman'.\n",
    "When both actor  and sportsman occur in the searched string, the first occurrence of matching text will be returned as the Match object.\n",
    "\n"
   ]
  },
  {
   "cell_type": "code",
   "execution_count": 6,
   "id": "61f97e19",
   "metadata": {},
   "outputs": [
    {
     "data": {
      "text/plain": [
       "'actor'"
      ]
     },
     "execution_count": 6,
     "metadata": {},
     "output_type": "execute_result"
    }
   ],
   "source": [
    "professRegex = re.compile (r'actor|Sportsman')\n",
    "r1 = professRegex.search('actor and Sportsman')\n",
    "r1.group()"
   ]
  },
  {
   "cell_type": "code",
   "execution_count": 7,
   "id": "a185e16f",
   "metadata": {},
   "outputs": [
    {
     "data": {
      "text/plain": [
       "'Sportsman'"
      ]
     },
     "execution_count": 7,
     "metadata": {},
     "output_type": "execute_result"
    }
   ],
   "source": [
    "r2 = professRegex.search('Sportsman and actor')\n",
    "r2.group()"
   ]
  },
  {
   "cell_type": "raw",
   "id": "b5219f78",
   "metadata": {},
   "source": [
    "9. In regular expressions, what does the  ? character stand for?\n",
    "\n",
    " The ? character can either mean “match zero or one of the preceding group”."
   ]
  },
  {
   "cell_type": "raw",
   "id": "d1b9a71e",
   "metadata": {},
   "source": [
    "10.In regular expressions, what is the difference between the + and * characters?\n",
    "\n",
    "The + matches one or more. The * matches zero or more."
   ]
  },
  {
   "cell_type": "raw",
   "id": "2611a7b4",
   "metadata": {},
   "source": [
    "11. What is the difference between {4} and {4,5} in regular expression?\n",
    "\n",
    "The {4} matches exactly three instances of the preceding group.\n",
    "The {4,5} matches between four and five instances."
   ]
  },
  {
   "cell_type": "raw",
   "id": "2774bc3a",
   "metadata": {},
   "source": [
    "12. What do you mean by the \\d, \\w, and \\s shorthand character classes signify in regular expressions?\n",
    "\n",
    "The \\d, stands for single digit, Any numeric digit from 0 to 9\n",
    "The \\w, stands for single word, Any letter, numeric digit, or the underscore character. (Think of this as matching “word” characters.) \n",
    "The \\s stands for single space character, Any space, tab, or newline character. (Think of this as matching “space” characters.)"
   ]
  },
  {
   "cell_type": "raw",
   "id": "254736a0",
   "metadata": {},
   "source": [
    "13. What do means by \\D, \\W, and \\S shorthand character classes signify in regular expressions?\n",
    "\n",
    "\\D - > Any character that is not a numeric digit from 0 to 9.\n",
    "\\W - > Any character that is not a letter, numeric digit, or the underscore character.\n",
    "\\S - > Any character that is not a space, tab, or newline."
   ]
  },
  {
   "cell_type": "raw",
   "id": "d4ca6b8b",
   "metadata": {},
   "source": [
    "14. What is the difference between .* and .*?\n",
    "\n",
    "Ans: The .* performs a greedy match, and the .*? performs a nongreedy match."
   ]
  },
  {
   "cell_type": "raw",
   "id": "f549169b",
   "metadata": {},
   "source": [
    "15. What is the syntax for matching both numbers and lowercase letters with a character class?\n",
    "\n",
    "Either [0-9a-z] or [a-z0-9]"
   ]
  },
  {
   "cell_type": "code",
   "execution_count": 8,
   "id": "aa5dd366",
   "metadata": {},
   "outputs": [
    {
     "data": {
      "text/plain": [
       "'h'"
      ]
     },
     "execution_count": 8,
     "metadata": {},
     "output_type": "execute_result"
    }
   ],
   "source": [
    "reg1 = re.compile(r'[0-9a-z]')\n",
    "reg2 = re.compile(r'[a-z0-9]')\n",
    "\n",
    "mo1 = reg1.search('hello')\n",
    "mo1.group()"
   ]
  },
  {
   "cell_type": "code",
   "execution_count": 9,
   "id": "76088129",
   "metadata": {},
   "outputs": [
    {
     "data": {
      "text/plain": [
       "'2'"
      ]
     },
     "execution_count": 9,
     "metadata": {},
     "output_type": "execute_result"
    }
   ],
   "source": [
    "mo2 = reg1.search('234 hello')\n",
    "mo2.group()"
   ]
  },
  {
   "cell_type": "raw",
   "id": "5979b875",
   "metadata": {},
   "source": [
    "16. What is the procedure for making a normal expression in regax case insensitive?\n",
    "\n",
    "Passing re.I or re.IGNORECASE as the second argument to re.compile() will make the matching case insensitive"
   ]
  },
  {
   "cell_type": "raw",
   "id": "509cc399",
   "metadata": {},
   "source": [
    "17. What does the . character normally match?\n",
    "    What does it match if re.DOTALL is passed as 2nd argument in re.compile()?\n",
    "    \n",
    "    \n",
    "The . character normally matches any character except the newline character.\n",
    "If re.DOTALL is passed as the second argument to re.compile(), then the dot will also match newline characters."
   ]
  },
  {
   "cell_type": "code",
   "execution_count": 10,
   "id": "3a567b11",
   "metadata": {},
   "outputs": [
    {
     "data": {
      "text/plain": [
       "'X drummers, X pipers, five rings, X hen'"
      ]
     },
     "execution_count": 10,
     "metadata": {},
     "output_type": "execute_result"
    }
   ],
   "source": [
    "#18. If numRegex = re.compile(r'\\d+'), \n",
    "# what will numRegex.sub('X', '11 drummers, 10 pipers, five rings, 4 hen') return?\n",
    "\n",
    "numRegex = re.compile(r'\\d+')\n",
    "ret = numRegex.sub('X', '11 drummers, 10 pipers, five rings, 4 hen')\n",
    "ret"
   ]
  },
  {
   "cell_type": "raw",
   "id": "0ad7d030",
   "metadata": {},
   "source": [
    "19. What does passing re.VERBOSE as the 2nd argument to re.compile() allow to do?\n",
    "\n",
    "The re.VERBOSE argument allows you to add whitespace and comments to the string passed to re.compile()"
   ]
  },
  {
   "cell_type": "raw",
   "id": "7ef2e950",
   "metadata": {},
   "source": [
    "20. How would you write a regex that match a number with comma for every three digits? It must match the given following\n",
    "\n",
    "'42'\n",
    "'1'\n",
    "'6,368,745'\n",
    "but not the following:\n",
    "'12,34,567' (which has only two digits between the commas)\n",
    "'1234' (which lacks commas)"
   ]
  },
  {
   "cell_type": "code",
   "execution_count": 11,
   "id": "5a82e32a",
   "metadata": {},
   "outputs": [
    {
     "data": {
      "text/plain": [
       "'4'"
      ]
     },
     "execution_count": 11,
     "metadata": {},
     "output_type": "execute_result"
    }
   ],
   "source": [
    "regex1 = re.compile(r'^\\d{1,3}(,\\d{3})*$')\n",
    "m = reg1.search('42')\n",
    "m.group()"
   ]
  },
  {
   "cell_type": "code",
   "execution_count": 12,
   "id": "9cd8a211",
   "metadata": {},
   "outputs": [
    {
     "data": {
      "text/plain": [
       "'1'"
      ]
     },
     "execution_count": 12,
     "metadata": {},
     "output_type": "execute_result"
    }
   ],
   "source": [
    "regex1 = re.compile(r'^\\d{1,3}(,\\d{3})*$')\n",
    "m = reg1.search('1,234')\n",
    "m.group()"
   ]
  },
  {
   "cell_type": "code",
   "execution_count": 13,
   "id": "f5a089e4",
   "metadata": {},
   "outputs": [
    {
     "data": {
      "text/plain": [
       "'6'"
      ]
     },
     "execution_count": 13,
     "metadata": {},
     "output_type": "execute_result"
    }
   ],
   "source": [
    "regex1 = re.compile(r'^\\d{1,3}(,\\d{3})*$')\n",
    "m = reg1.search('6,368,745')\n",
    "m.group()"
   ]
  },
  {
   "cell_type": "raw",
   "id": "9c1cf7ca",
   "metadata": {},
   "source": [
    "21. Ques. How would you write a regex that matches the full name of someone whose last name is Watanabe? You can assume that the first name that comes before it will always be one word that begins with a capital letter. \n",
    "The regex must match the following:"
   ]
  },
  {
   "cell_type": "code",
   "execution_count": 14,
   "id": "21336907",
   "metadata": {},
   "outputs": [
    {
     "data": {
      "text/plain": [
       "'Haruto Watanabe'"
      ]
     },
     "execution_count": 14,
     "metadata": {},
     "output_type": "execute_result"
    }
   ],
   "source": [
    "name = re.compile(r'[A-Z][a-z]*\\sWatanabe')\n",
    "regex1 = re.compile(r'^\\d{1,3}(,\\d{haruto Watanabe3})*$')\n",
    "m = name.search('Haruto Watanabe')\n",
    "m.group()"
   ]
  },
  {
   "cell_type": "code",
   "execution_count": 15,
   "id": "45ebade4",
   "metadata": {},
   "outputs": [
    {
     "data": {
      "text/plain": [
       "'Alice Watanabe'"
      ]
     },
     "execution_count": 15,
     "metadata": {},
     "output_type": "execute_result"
    }
   ],
   "source": [
    "name = re.compile(r'[A-Z][a-z]*\\sWatanabe')\n",
    "regex1 = re.compile(r'^\\d{1,3}(,\\d{3})*$')\n",
    "m = name.search('Alice Watanabe')\n",
    "m.group()    "
   ]
  },
  {
   "cell_type": "code",
   "execution_count": 16,
   "id": "742d9754",
   "metadata": {},
   "outputs": [
    {
     "data": {
      "text/plain": [
       "'Robocop Watanabe'"
      ]
     },
     "execution_count": 16,
     "metadata": {},
     "output_type": "execute_result"
    }
   ],
   "source": [
    "name = re.compile(r'[A-Z][a-z]*\\sWatanabe')\n",
    "reg1 = re.compile(r'^\\d{1,3}(,\\d{3})*$')\n",
    "m = name.search('Robocop Watanabe')\n",
    "m.group()"
   ]
  },
  {
   "cell_type": "raw",
   "id": "5ee8ef34",
   "metadata": {},
   "source": [
    "22. How would you write a regex that matches a sentence where the first word is either Alice, Bob,or Carol; the second word is either eats, pets, or throws; the third word is apples, cats, or baseballs; and the sentence ends with a period? This regex should be case-insensitive. It must match the following:"
   ]
  },
  {
   "cell_type": "code",
   "execution_count": 17,
   "id": "cd995ed8",
   "metadata": {},
   "outputs": [
    {
     "data": {
      "text/plain": [
       "'Alice eats apples.'"
      ]
     },
     "execution_count": 17,
     "metadata": {},
     "output_type": "execute_result"
    }
   ],
   "source": [
    "name = re.compile(r'(Alice|Bob|Carol)\\s(eats|pets|throws)\\s(apples|cats|baseballs)\\.', re.IGNORECASE)\n",
    "m = name.search('Alice eats apples.')\n",
    "m.group()"
   ]
  },
  {
   "cell_type": "code",
   "execution_count": 18,
   "id": "78bf895f",
   "metadata": {},
   "outputs": [
    {
     "data": {
      "text/plain": [
       "'Carol throws baseballs.'"
      ]
     },
     "execution_count": 18,
     "metadata": {},
     "output_type": "execute_result"
    }
   ],
   "source": [
    "name = re.compile(r'(Alice|Bob|Carol)\\s(eats|pets|throws)\\s(apples|cats|baseballs)\\.', re.IGNORECASE)\n",
    "m = name.search('Carol throws baseballs.')\n",
    "m.group()"
   ]
  },
  {
   "cell_type": "code",
   "execution_count": null,
   "id": "a92fe8c3",
   "metadata": {},
   "outputs": [],
   "source": []
  }
 ],
 "metadata": {
  "kernelspec": {
   "display_name": "Python 3 (ipykernel)",
   "language": "python",
   "name": "python3"
  },
  "language_info": {
   "codemirror_mode": {
    "name": "ipython",
    "version": 3
   },
   "file_extension": ".py",
   "mimetype": "text/x-python",
   "name": "python",
   "nbconvert_exporter": "python",
   "pygments_lexer": "ipython3",
   "version": "3.9.12"
  }
 },
 "nbformat": 4,
 "nbformat_minor": 5
}
