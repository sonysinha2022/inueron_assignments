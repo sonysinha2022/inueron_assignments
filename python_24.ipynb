{
 "cells": [
  {
   "cell_type": "code",
   "execution_count": null,
   "id": "64abc57f",
   "metadata": {},
   "outputs": [],
   "source": [
    "1. What is the relationship between def statements and lambda expressions ?"
   ]
  },
  {
   "cell_type": "code",
   "execution_count": null,
   "id": "030f62a3",
   "metadata": {},
   "outputs": [],
   "source": [
    "The def keyword is used to define normal functions, while the lambda keyword is used to define anonymous functions. "
   ]
  },
  {
   "cell_type": "code",
   "execution_count": null,
   "id": "754990b9",
   "metadata": {},
   "outputs": [],
   "source": [
    "# creating a function that returns the square root of the number passed to it\n",
    "def square(x)\n",
    "    return x*x\n",
    "\n",
    "\n",
    "# using lambda function that returns the square root of  the number passed \n",
    "lambda_square = lambda x: x*x\n",
    "\n",
    "print(\"Square of the number using the function with 'def' keyword:\", square(4))\n",
    "\n",
    "print(\"Square of the number using the function with 'lambda' keyword:\", lambda_square(4))"
   ]
  },
  {
   "cell_type": "code",
   "execution_count": null,
   "id": "2589a722",
   "metadata": {},
   "outputs": [],
   "source": [
    "2. What is the benefit of lambda?\n",
    "\n",
    "lambda keyword lets to define a function in a single line of code and use it immediately."
   ]
  },
  {
   "cell_type": "code",
   "execution_count": null,
   "id": "95b5e1eb",
   "metadata": {},
   "outputs": [],
   "source": [
    "3 Compare and contrast map, filter, and reduce.\n",
    "\n",
    "The map() function applies a given function to each item in an iterable, creating a new iterable with the results.\n",
    "map(square, [1, 2, 3]) would return an iterable with the squared values: [1, 4, 9].\n",
    "\n",
    "The reduce() function applies a specified function to the first two elements of an iterable, then to the result and the next element, and so on, reducing the iterable to a single value.\n",
    "reduce(add, [1, 2, 3]) would yield 6 (1 + 2 + 3).\n",
    "\n",
    "filter() creates a new iterable by applying a filtering function to each element of the input iterable, returning only the elements that satisfy a given condition."
   ]
  },
  {
   "cell_type": "code",
   "execution_count": null,
   "id": "7c8d25e6",
   "metadata": {},
   "outputs": [],
   "source": [
    "4. What are function annotations, and how are they used?\n",
    "\n",
    "Function annotations are some random expressions which are written with the functions, and they are evaluated at compile time. \n",
    "They do not exist at run time, and there is no meaning of these expressions to python. \n",
    "\n",
    "def functionName(argumentName : expression): "
   ]
  },
  {
   "cell_type": "code",
   "execution_count": null,
   "id": "a2965b5b",
   "metadata": {},
   "outputs": [],
   "source": [
    "5. What are recursive functions, and how are they used?\n",
    "\n",
    "Recursive functions are functions that calls itself. \n",
    "It is always made up of 2 portions, the base case and the recursive case.\n",
    "\n",
    "The base case is the condition to stop the recursion.\n",
    "The recursive case is the part where the function calls on itself."
   ]
  },
  {
   "cell_type": "code",
   "execution_count": 3,
   "id": "8a516990",
   "metadata": {},
   "outputs": [
    {
     "name": "stdout",
     "output_type": "stream",
     "text": [
      "720\n"
     ]
    }
   ],
   "source": [
    "## recurvise function\n",
    "def factorial(x):\n",
    "    if x == 1: \n",
    "        return 1\n",
    "    else: \n",
    "        return(x * factorial(x-1))\n",
    "print(factorial(6))"
   ]
  },
  {
   "cell_type": "code",
   "execution_count": null,
   "id": "1cc9aa29",
   "metadata": {},
   "outputs": [],
   "source": [
    "6. What are some general design guidelines for coding functions?\n",
    "\n",
    "\n",
    "1. Use 4-space indentation and no tabs.\n",
    "2. Use docstrings\n",
    "3. Wrap lines so that they don’t exceed 79 characters\n",
    "4. Use of regular and updated comments are valuable to both the coders and users\n",
    "5.Use spaces around operators and after commas, but not directly inside bracketing constructs\n",
    "6.Use Python’s default UTF-8 or ASCII encodings"
   ]
  },
  {
   "cell_type": "code",
   "execution_count": null,
   "id": "8efdfeac",
   "metadata": {},
   "outputs": [],
   "source": [
    "7. Name three or more ways that functions can communicate results to a caller.\n",
    "\n",
    "A Function in Python is a piece of code which runs when it is referenced.\n",
    "It is used to utilize the code in more than one place in a program.\n",
    "\n",
    "1. Function in Python is defined by the “def ” statement followed by the function name and parentheses ( () )\n",
    "\n",
    "2. Arguements in function\n",
    "\n",
    "3.Using main() as a Function\n",
    "  main function is required to execute functions\n"
   ]
  },
  {
   "cell_type": "code",
   "execution_count": 4,
   "id": "b93b655b",
   "metadata": {},
   "outputs": [
    {
     "name": "stdout",
     "output_type": "stream",
     "text": [
      "Python assignment\n"
     ]
    }
   ],
   "source": [
    "# 1.\n",
    "def fun():\n",
    "    print(\"Python assignment\")\n",
    "    \n",
    "fun()\n"
   ]
  },
  {
   "cell_type": "code",
   "execution_count": 5,
   "id": "62cdf8d3",
   "metadata": {},
   "outputs": [
    {
     "name": "stdout",
     "output_type": "stream",
     "text": [
      "49\n"
     ]
    }
   ],
   "source": [
    "# 2. Arguements in functions\n",
    "\n",
    "def square(x):\n",
    "    return x*x\n",
    "print(square(7))"
   ]
  },
  {
   "cell_type": "code",
   "execution_count": 7,
   "id": "aa1c9acf",
   "metadata": {},
   "outputs": [
    {
     "name": "stdout",
     "output_type": "stream",
     "text": [
      "Python assignment\n"
     ]
    }
   ],
   "source": [
    "def main():\n",
    "    print(\"Python assignment\")\n",
    "\n",
    "if __name__ == \"__main__\":\n",
    "    main()"
   ]
  },
  {
   "cell_type": "code",
   "execution_count": null,
   "id": "8dc0d5f8",
   "metadata": {},
   "outputs": [],
   "source": []
  }
 ],
 "metadata": {
  "kernelspec": {
   "display_name": "Python 3",
   "language": "python",
   "name": "python3"
  },
  "language_info": {
   "codemirror_mode": {
    "name": "ipython",
    "version": 3
   },
   "file_extension": ".py",
   "mimetype": "text/x-python",
   "name": "python",
   "nbconvert_exporter": "python",
   "pygments_lexer": "ipython3",
   "version": "3.10.6"
  }
 },
 "nbformat": 4,
 "nbformat_minor": 5
}
